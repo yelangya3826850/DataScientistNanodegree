{
 "cells": [
  {
   "cell_type": "markdown",
   "metadata": {},
   "source": [
    "# Project: Identify Customer Segments\n",
    "\n",
    "In this project, you will apply unsupervised learning techniques to identify segments of the population that form the core customer base for a mail-order sales company in Germany. These segments can then be used to direct marketing campaigns towards audiences that will have the highest expected rate of returns. The data that you will use has been provided by our partners at Bertelsmann Arvato Analytics, and represents a real-life data science task.\n",
    "\n",
    "This notebook will help you complete this task by providing a framework within which you will perform your analysis steps. In each step of the project, you will see some text describing the subtask that you will perform, followed by one or more code cells for you to complete your work. **Feel free to add additional code and markdown cells as you go along so that you can explore everything in precise chunks.** The code cells provided in the base template will outline only the major tasks, and will usually not be enough to cover all of the minor tasks that comprise it.\n",
    "\n",
    "It should be noted that while there will be precise guidelines on how you should handle certain tasks in the project, there will also be places where an exact specification is not provided. **There will be times in the project where you will need to make and justify your own decisions on how to treat the data.** These are places where there may not be only one way to handle the data. In real-life tasks, there may be many valid ways to approach an analysis task. One of the most important things you can do is clearly document your approach so that other scientists can understand the decisions you've made.\n",
    "\n",
    "At the end of most sections, there will be a Markdown cell labeled **Discussion**. In these cells, you will report your findings for the completed section, as well as document the decisions that you made in your approach to each subtask. **Your project will be evaluated not just on the code used to complete the tasks outlined, but also your communication about your observations and conclusions at each stage.**"
   ]
  },
  {
   "cell_type": "code",
   "execution_count": 1,
   "metadata": {},
   "outputs": [],
   "source": [
    "# import libraries here; add more as necessary\n",
    "import numpy as np\n",
    "import pandas as pd\n",
    "import matplotlib.pyplot as plt\n",
    "import seaborn as sns\n",
    "\n",
    "# magic word for producing visualizations in notebook\n",
    "%matplotlib inline"
   ]
  },
  {
   "cell_type": "markdown",
   "metadata": {},
   "source": [
    "### Step 0: Load the Data\n",
    "\n",
    "There are four files associated with this project (not including this one):\n",
    "\n",
    "- `Udacity_AZDIAS_Subset.csv`: Demographics data for the general population of Germany; 891211 persons (rows) x 85 features (columns).\n",
    "- `Udacity_CUSTOMERS_Subset.csv`: Demographics data for customers of a mail-order company; 191652 persons (rows) x 85 features (columns).\n",
    "- `Data_Dictionary.md`: Detailed information file about the features in the provided datasets.\n",
    "- `AZDIAS_Feature_Summary.csv`: Summary of feature attributes for demographics data; 85 features (rows) x 4 columns\n",
    "\n",
    "Each row of the demographics files represents a single person, but also includes information outside of individuals, including information about their household, building, and neighborhood. You will use this information to cluster the general population into groups with similar demographic properties. Then, you will see how the people in the customers dataset fit into those created clusters. The hope here is that certain clusters are over-represented in the customers data, as compared to the general population; those over-represented clusters will be assumed to be part of the core userbase. This information can then be used for further applications, such as targeting for a marketing campaign.\n",
    "\n",
    "To start off with, load in the demographics data for the general population into a pandas DataFrame, and do the same for the feature attributes summary. Note for all of the `.csv` data files in this project: they're semicolon (`;`) delimited, so you'll need an additional argument in your [`read_csv()`](https://pandas.pydata.org/pandas-docs/stable/generated/pandas.read_csv.html) call to read in the data properly. Also, considering the size of the main dataset, it may take some time for it to load completely.\n",
    "\n",
    "Once the dataset is loaded, it's recommended that you take a little bit of time just browsing the general structure of the dataset and feature summary file. You'll be getting deep into the innards of the cleaning in the first major step of the project, so gaining some general familiarity can help you get your bearings."
   ]
  },
  {
   "cell_type": "code",
   "execution_count": 2,
   "metadata": {},
   "outputs": [],
   "source": [
    "# Load in the general demographics data.\n",
    "azdias = pd.read_csv('Udacity_AZDIAS_Subset.csv' , delimiter = ';')\n",
    "\n",
    "# Load in the feature summary file.\n",
    "feat_info = pd.read_csv('AZDIAS_Feature_Summary.csv' , delimiter = ';')"
   ]
  },
  {
   "cell_type": "code",
   "execution_count": 3,
   "metadata": {},
   "outputs": [
    {
     "name": "stdout",
     "output_type": "stream",
     "text": [
      "Number of Rows: 891221\n",
      "Number of columns: 85\n"
     ]
    },
    {
     "data": {
      "text/html": [
       "<div>\n",
       "<style>\n",
       "    .dataframe thead tr:only-child th {\n",
       "        text-align: right;\n",
       "    }\n",
       "\n",
       "    .dataframe thead th {\n",
       "        text-align: left;\n",
       "    }\n",
       "\n",
       "    .dataframe tbody tr th {\n",
       "        vertical-align: top;\n",
       "    }\n",
       "</style>\n",
       "<table border=\"1\" class=\"dataframe\">\n",
       "  <thead>\n",
       "    <tr style=\"text-align: right;\">\n",
       "      <th></th>\n",
       "      <th>AGER_TYP</th>\n",
       "      <th>ALTERSKATEGORIE_GROB</th>\n",
       "      <th>ANREDE_KZ</th>\n",
       "      <th>CJT_GESAMTTYP</th>\n",
       "      <th>FINANZ_MINIMALIST</th>\n",
       "      <th>FINANZ_SPARER</th>\n",
       "      <th>FINANZ_VORSORGER</th>\n",
       "      <th>FINANZ_ANLEGER</th>\n",
       "      <th>FINANZ_UNAUFFAELLIGER</th>\n",
       "      <th>FINANZ_HAUSBAUER</th>\n",
       "      <th>...</th>\n",
       "      <th>PLZ8_ANTG1</th>\n",
       "      <th>PLZ8_ANTG2</th>\n",
       "      <th>PLZ8_ANTG3</th>\n",
       "      <th>PLZ8_ANTG4</th>\n",
       "      <th>PLZ8_BAUMAX</th>\n",
       "      <th>PLZ8_HHZ</th>\n",
       "      <th>PLZ8_GBZ</th>\n",
       "      <th>ARBEIT</th>\n",
       "      <th>ORTSGR_KLS9</th>\n",
       "      <th>RELAT_AB</th>\n",
       "    </tr>\n",
       "  </thead>\n",
       "  <tbody>\n",
       "    <tr>\n",
       "      <th>0</th>\n",
       "      <td>-1</td>\n",
       "      <td>2</td>\n",
       "      <td>1</td>\n",
       "      <td>2.0</td>\n",
       "      <td>3</td>\n",
       "      <td>4</td>\n",
       "      <td>3</td>\n",
       "      <td>5</td>\n",
       "      <td>5</td>\n",
       "      <td>3</td>\n",
       "      <td>...</td>\n",
       "      <td>NaN</td>\n",
       "      <td>NaN</td>\n",
       "      <td>NaN</td>\n",
       "      <td>NaN</td>\n",
       "      <td>NaN</td>\n",
       "      <td>NaN</td>\n",
       "      <td>NaN</td>\n",
       "      <td>NaN</td>\n",
       "      <td>NaN</td>\n",
       "      <td>NaN</td>\n",
       "    </tr>\n",
       "    <tr>\n",
       "      <th>1</th>\n",
       "      <td>-1</td>\n",
       "      <td>1</td>\n",
       "      <td>2</td>\n",
       "      <td>5.0</td>\n",
       "      <td>1</td>\n",
       "      <td>5</td>\n",
       "      <td>2</td>\n",
       "      <td>5</td>\n",
       "      <td>4</td>\n",
       "      <td>5</td>\n",
       "      <td>...</td>\n",
       "      <td>2.0</td>\n",
       "      <td>3.0</td>\n",
       "      <td>2.0</td>\n",
       "      <td>1.0</td>\n",
       "      <td>1.0</td>\n",
       "      <td>5.0</td>\n",
       "      <td>4.0</td>\n",
       "      <td>3.0</td>\n",
       "      <td>5.0</td>\n",
       "      <td>4.0</td>\n",
       "    </tr>\n",
       "    <tr>\n",
       "      <th>2</th>\n",
       "      <td>-1</td>\n",
       "      <td>3</td>\n",
       "      <td>2</td>\n",
       "      <td>3.0</td>\n",
       "      <td>1</td>\n",
       "      <td>4</td>\n",
       "      <td>1</td>\n",
       "      <td>2</td>\n",
       "      <td>3</td>\n",
       "      <td>5</td>\n",
       "      <td>...</td>\n",
       "      <td>3.0</td>\n",
       "      <td>3.0</td>\n",
       "      <td>1.0</td>\n",
       "      <td>0.0</td>\n",
       "      <td>1.0</td>\n",
       "      <td>4.0</td>\n",
       "      <td>4.0</td>\n",
       "      <td>3.0</td>\n",
       "      <td>5.0</td>\n",
       "      <td>2.0</td>\n",
       "    </tr>\n",
       "    <tr>\n",
       "      <th>3</th>\n",
       "      <td>2</td>\n",
       "      <td>4</td>\n",
       "      <td>2</td>\n",
       "      <td>2.0</td>\n",
       "      <td>4</td>\n",
       "      <td>2</td>\n",
       "      <td>5</td>\n",
       "      <td>2</td>\n",
       "      <td>1</td>\n",
       "      <td>2</td>\n",
       "      <td>...</td>\n",
       "      <td>2.0</td>\n",
       "      <td>2.0</td>\n",
       "      <td>2.0</td>\n",
       "      <td>0.0</td>\n",
       "      <td>1.0</td>\n",
       "      <td>3.0</td>\n",
       "      <td>4.0</td>\n",
       "      <td>2.0</td>\n",
       "      <td>3.0</td>\n",
       "      <td>3.0</td>\n",
       "    </tr>\n",
       "    <tr>\n",
       "      <th>4</th>\n",
       "      <td>-1</td>\n",
       "      <td>3</td>\n",
       "      <td>1</td>\n",
       "      <td>5.0</td>\n",
       "      <td>4</td>\n",
       "      <td>3</td>\n",
       "      <td>4</td>\n",
       "      <td>1</td>\n",
       "      <td>3</td>\n",
       "      <td>2</td>\n",
       "      <td>...</td>\n",
       "      <td>2.0</td>\n",
       "      <td>4.0</td>\n",
       "      <td>2.0</td>\n",
       "      <td>1.0</td>\n",
       "      <td>2.0</td>\n",
       "      <td>3.0</td>\n",
       "      <td>3.0</td>\n",
       "      <td>4.0</td>\n",
       "      <td>6.0</td>\n",
       "      <td>5.0</td>\n",
       "    </tr>\n",
       "  </tbody>\n",
       "</table>\n",
       "<p>5 rows × 85 columns</p>\n",
       "</div>"
      ],
      "text/plain": [
       "   AGER_TYP  ALTERSKATEGORIE_GROB  ANREDE_KZ  CJT_GESAMTTYP  \\\n",
       "0        -1                     2          1            2.0   \n",
       "1        -1                     1          2            5.0   \n",
       "2        -1                     3          2            3.0   \n",
       "3         2                     4          2            2.0   \n",
       "4        -1                     3          1            5.0   \n",
       "\n",
       "   FINANZ_MINIMALIST  FINANZ_SPARER  FINANZ_VORSORGER  FINANZ_ANLEGER  \\\n",
       "0                  3              4                 3               5   \n",
       "1                  1              5                 2               5   \n",
       "2                  1              4                 1               2   \n",
       "3                  4              2                 5               2   \n",
       "4                  4              3                 4               1   \n",
       "\n",
       "   FINANZ_UNAUFFAELLIGER  FINANZ_HAUSBAUER    ...     PLZ8_ANTG1  PLZ8_ANTG2  \\\n",
       "0                      5                 3    ...            NaN         NaN   \n",
       "1                      4                 5    ...            2.0         3.0   \n",
       "2                      3                 5    ...            3.0         3.0   \n",
       "3                      1                 2    ...            2.0         2.0   \n",
       "4                      3                 2    ...            2.0         4.0   \n",
       "\n",
       "   PLZ8_ANTG3  PLZ8_ANTG4  PLZ8_BAUMAX  PLZ8_HHZ  PLZ8_GBZ  ARBEIT  \\\n",
       "0         NaN         NaN          NaN       NaN       NaN     NaN   \n",
       "1         2.0         1.0          1.0       5.0       4.0     3.0   \n",
       "2         1.0         0.0          1.0       4.0       4.0     3.0   \n",
       "3         2.0         0.0          1.0       3.0       4.0     2.0   \n",
       "4         2.0         1.0          2.0       3.0       3.0     4.0   \n",
       "\n",
       "   ORTSGR_KLS9  RELAT_AB  \n",
       "0          NaN       NaN  \n",
       "1          5.0       4.0  \n",
       "2          5.0       2.0  \n",
       "3          3.0       3.0  \n",
       "4          6.0       5.0  \n",
       "\n",
       "[5 rows x 85 columns]"
      ]
     },
     "execution_count": 3,
     "metadata": {},
     "output_type": "execute_result"
    }
   ],
   "source": [
    "# Check the structure of the data after it's loaded (e.g. print the number of\n",
    "# rows and columns, print the first few rows).\n",
    "azdias.shape\n",
    "print('Number of Rows: {}'.format(azdias.shape[0]))\n",
    "print('Number of columns: {}'.format(azdias.shape[1]))\n",
    "azdias.head(5)\n"
   ]
  },
  {
   "cell_type": "code",
   "execution_count": 4,
   "metadata": {},
   "outputs": [
    {
     "data": {
      "text/html": [
       "<div>\n",
       "<style>\n",
       "    .dataframe thead tr:only-child th {\n",
       "        text-align: right;\n",
       "    }\n",
       "\n",
       "    .dataframe thead th {\n",
       "        text-align: left;\n",
       "    }\n",
       "\n",
       "    .dataframe tbody tr th {\n",
       "        vertical-align: top;\n",
       "    }\n",
       "</style>\n",
       "<table border=\"1\" class=\"dataframe\">\n",
       "  <thead>\n",
       "    <tr style=\"text-align: right;\">\n",
       "      <th></th>\n",
       "      <th>AGER_TYP</th>\n",
       "      <th>ALTERSKATEGORIE_GROB</th>\n",
       "      <th>ANREDE_KZ</th>\n",
       "      <th>CJT_GESAMTTYP</th>\n",
       "      <th>FINANZ_MINIMALIST</th>\n",
       "      <th>FINANZ_SPARER</th>\n",
       "      <th>FINANZ_VORSORGER</th>\n",
       "      <th>FINANZ_ANLEGER</th>\n",
       "      <th>FINANZ_UNAUFFAELLIGER</th>\n",
       "      <th>FINANZ_HAUSBAUER</th>\n",
       "      <th>...</th>\n",
       "      <th>PLZ8_ANTG1</th>\n",
       "      <th>PLZ8_ANTG2</th>\n",
       "      <th>PLZ8_ANTG3</th>\n",
       "      <th>PLZ8_ANTG4</th>\n",
       "      <th>PLZ8_BAUMAX</th>\n",
       "      <th>PLZ8_HHZ</th>\n",
       "      <th>PLZ8_GBZ</th>\n",
       "      <th>ARBEIT</th>\n",
       "      <th>ORTSGR_KLS9</th>\n",
       "      <th>RELAT_AB</th>\n",
       "    </tr>\n",
       "  </thead>\n",
       "  <tbody>\n",
       "    <tr>\n",
       "      <th>count</th>\n",
       "      <td>891221.000000</td>\n",
       "      <td>891221.000000</td>\n",
       "      <td>891221.000000</td>\n",
       "      <td>886367.000000</td>\n",
       "      <td>891221.000000</td>\n",
       "      <td>891221.000000</td>\n",
       "      <td>891221.000000</td>\n",
       "      <td>891221.000000</td>\n",
       "      <td>891221.000000</td>\n",
       "      <td>891221.000000</td>\n",
       "      <td>...</td>\n",
       "      <td>774706.000000</td>\n",
       "      <td>774706.000000</td>\n",
       "      <td>774706.000000</td>\n",
       "      <td>774706.000000</td>\n",
       "      <td>774706.000000</td>\n",
       "      <td>774706.000000</td>\n",
       "      <td>774706.000000</td>\n",
       "      <td>794005.000000</td>\n",
       "      <td>794005.000000</td>\n",
       "      <td>794005.00000</td>\n",
       "    </tr>\n",
       "    <tr>\n",
       "      <th>mean</th>\n",
       "      <td>-0.358435</td>\n",
       "      <td>2.777398</td>\n",
       "      <td>1.522098</td>\n",
       "      <td>3.632838</td>\n",
       "      <td>3.074528</td>\n",
       "      <td>2.821039</td>\n",
       "      <td>3.401106</td>\n",
       "      <td>3.033328</td>\n",
       "      <td>2.874167</td>\n",
       "      <td>3.075121</td>\n",
       "      <td>...</td>\n",
       "      <td>2.253330</td>\n",
       "      <td>2.801858</td>\n",
       "      <td>1.595426</td>\n",
       "      <td>0.699166</td>\n",
       "      <td>1.943913</td>\n",
       "      <td>3.612821</td>\n",
       "      <td>3.381087</td>\n",
       "      <td>3.167854</td>\n",
       "      <td>5.293002</td>\n",
       "      <td>3.07222</td>\n",
       "    </tr>\n",
       "    <tr>\n",
       "      <th>std</th>\n",
       "      <td>1.198724</td>\n",
       "      <td>1.068775</td>\n",
       "      <td>0.499512</td>\n",
       "      <td>1.595021</td>\n",
       "      <td>1.321055</td>\n",
       "      <td>1.464749</td>\n",
       "      <td>1.322134</td>\n",
       "      <td>1.529603</td>\n",
       "      <td>1.486731</td>\n",
       "      <td>1.353248</td>\n",
       "      <td>...</td>\n",
       "      <td>0.972008</td>\n",
       "      <td>0.920309</td>\n",
       "      <td>0.986736</td>\n",
       "      <td>0.727137</td>\n",
       "      <td>1.459654</td>\n",
       "      <td>0.973967</td>\n",
       "      <td>1.111598</td>\n",
       "      <td>1.002376</td>\n",
       "      <td>2.303739</td>\n",
       "      <td>1.36298</td>\n",
       "    </tr>\n",
       "    <tr>\n",
       "      <th>min</th>\n",
       "      <td>-1.000000</td>\n",
       "      <td>1.000000</td>\n",
       "      <td>1.000000</td>\n",
       "      <td>1.000000</td>\n",
       "      <td>1.000000</td>\n",
       "      <td>1.000000</td>\n",
       "      <td>1.000000</td>\n",
       "      <td>1.000000</td>\n",
       "      <td>1.000000</td>\n",
       "      <td>1.000000</td>\n",
       "      <td>...</td>\n",
       "      <td>0.000000</td>\n",
       "      <td>0.000000</td>\n",
       "      <td>0.000000</td>\n",
       "      <td>0.000000</td>\n",
       "      <td>1.000000</td>\n",
       "      <td>1.000000</td>\n",
       "      <td>1.000000</td>\n",
       "      <td>1.000000</td>\n",
       "      <td>0.000000</td>\n",
       "      <td>1.00000</td>\n",
       "    </tr>\n",
       "    <tr>\n",
       "      <th>25%</th>\n",
       "      <td>-1.000000</td>\n",
       "      <td>2.000000</td>\n",
       "      <td>1.000000</td>\n",
       "      <td>2.000000</td>\n",
       "      <td>2.000000</td>\n",
       "      <td>1.000000</td>\n",
       "      <td>3.000000</td>\n",
       "      <td>2.000000</td>\n",
       "      <td>2.000000</td>\n",
       "      <td>2.000000</td>\n",
       "      <td>...</td>\n",
       "      <td>1.000000</td>\n",
       "      <td>2.000000</td>\n",
       "      <td>1.000000</td>\n",
       "      <td>0.000000</td>\n",
       "      <td>1.000000</td>\n",
       "      <td>3.000000</td>\n",
       "      <td>3.000000</td>\n",
       "      <td>3.000000</td>\n",
       "      <td>4.000000</td>\n",
       "      <td>2.00000</td>\n",
       "    </tr>\n",
       "    <tr>\n",
       "      <th>50%</th>\n",
       "      <td>-1.000000</td>\n",
       "      <td>3.000000</td>\n",
       "      <td>2.000000</td>\n",
       "      <td>4.000000</td>\n",
       "      <td>3.000000</td>\n",
       "      <td>3.000000</td>\n",
       "      <td>3.000000</td>\n",
       "      <td>3.000000</td>\n",
       "      <td>3.000000</td>\n",
       "      <td>3.000000</td>\n",
       "      <td>...</td>\n",
       "      <td>2.000000</td>\n",
       "      <td>3.000000</td>\n",
       "      <td>2.000000</td>\n",
       "      <td>1.000000</td>\n",
       "      <td>1.000000</td>\n",
       "      <td>4.000000</td>\n",
       "      <td>3.000000</td>\n",
       "      <td>3.000000</td>\n",
       "      <td>5.000000</td>\n",
       "      <td>3.00000</td>\n",
       "    </tr>\n",
       "    <tr>\n",
       "      <th>75%</th>\n",
       "      <td>-1.000000</td>\n",
       "      <td>4.000000</td>\n",
       "      <td>2.000000</td>\n",
       "      <td>5.000000</td>\n",
       "      <td>4.000000</td>\n",
       "      <td>4.000000</td>\n",
       "      <td>5.000000</td>\n",
       "      <td>5.000000</td>\n",
       "      <td>4.000000</td>\n",
       "      <td>4.000000</td>\n",
       "      <td>...</td>\n",
       "      <td>3.000000</td>\n",
       "      <td>3.000000</td>\n",
       "      <td>2.000000</td>\n",
       "      <td>1.000000</td>\n",
       "      <td>3.000000</td>\n",
       "      <td>4.000000</td>\n",
       "      <td>4.000000</td>\n",
       "      <td>4.000000</td>\n",
       "      <td>7.000000</td>\n",
       "      <td>4.00000</td>\n",
       "    </tr>\n",
       "    <tr>\n",
       "      <th>max</th>\n",
       "      <td>3.000000</td>\n",
       "      <td>9.000000</td>\n",
       "      <td>2.000000</td>\n",
       "      <td>6.000000</td>\n",
       "      <td>5.000000</td>\n",
       "      <td>5.000000</td>\n",
       "      <td>5.000000</td>\n",
       "      <td>5.000000</td>\n",
       "      <td>5.000000</td>\n",
       "      <td>5.000000</td>\n",
       "      <td>...</td>\n",
       "      <td>4.000000</td>\n",
       "      <td>4.000000</td>\n",
       "      <td>3.000000</td>\n",
       "      <td>2.000000</td>\n",
       "      <td>5.000000</td>\n",
       "      <td>5.000000</td>\n",
       "      <td>5.000000</td>\n",
       "      <td>9.000000</td>\n",
       "      <td>9.000000</td>\n",
       "      <td>9.00000</td>\n",
       "    </tr>\n",
       "  </tbody>\n",
       "</table>\n",
       "<p>8 rows × 81 columns</p>\n",
       "</div>"
      ],
      "text/plain": [
       "            AGER_TYP  ALTERSKATEGORIE_GROB      ANREDE_KZ  CJT_GESAMTTYP  \\\n",
       "count  891221.000000         891221.000000  891221.000000  886367.000000   \n",
       "mean       -0.358435              2.777398       1.522098       3.632838   \n",
       "std         1.198724              1.068775       0.499512       1.595021   \n",
       "min        -1.000000              1.000000       1.000000       1.000000   \n",
       "25%        -1.000000              2.000000       1.000000       2.000000   \n",
       "50%        -1.000000              3.000000       2.000000       4.000000   \n",
       "75%        -1.000000              4.000000       2.000000       5.000000   \n",
       "max         3.000000              9.000000       2.000000       6.000000   \n",
       "\n",
       "       FINANZ_MINIMALIST  FINANZ_SPARER  FINANZ_VORSORGER  FINANZ_ANLEGER  \\\n",
       "count      891221.000000  891221.000000     891221.000000   891221.000000   \n",
       "mean            3.074528       2.821039          3.401106        3.033328   \n",
       "std             1.321055       1.464749          1.322134        1.529603   \n",
       "min             1.000000       1.000000          1.000000        1.000000   \n",
       "25%             2.000000       1.000000          3.000000        2.000000   \n",
       "50%             3.000000       3.000000          3.000000        3.000000   \n",
       "75%             4.000000       4.000000          5.000000        5.000000   \n",
       "max             5.000000       5.000000          5.000000        5.000000   \n",
       "\n",
       "       FINANZ_UNAUFFAELLIGER  FINANZ_HAUSBAUER      ...          PLZ8_ANTG1  \\\n",
       "count          891221.000000     891221.000000      ...       774706.000000   \n",
       "mean                2.874167          3.075121      ...            2.253330   \n",
       "std                 1.486731          1.353248      ...            0.972008   \n",
       "min                 1.000000          1.000000      ...            0.000000   \n",
       "25%                 2.000000          2.000000      ...            1.000000   \n",
       "50%                 3.000000          3.000000      ...            2.000000   \n",
       "75%                 4.000000          4.000000      ...            3.000000   \n",
       "max                 5.000000          5.000000      ...            4.000000   \n",
       "\n",
       "          PLZ8_ANTG2     PLZ8_ANTG3     PLZ8_ANTG4    PLZ8_BAUMAX  \\\n",
       "count  774706.000000  774706.000000  774706.000000  774706.000000   \n",
       "mean        2.801858       1.595426       0.699166       1.943913   \n",
       "std         0.920309       0.986736       0.727137       1.459654   \n",
       "min         0.000000       0.000000       0.000000       1.000000   \n",
       "25%         2.000000       1.000000       0.000000       1.000000   \n",
       "50%         3.000000       2.000000       1.000000       1.000000   \n",
       "75%         3.000000       2.000000       1.000000       3.000000   \n",
       "max         4.000000       3.000000       2.000000       5.000000   \n",
       "\n",
       "            PLZ8_HHZ       PLZ8_GBZ         ARBEIT    ORTSGR_KLS9  \\\n",
       "count  774706.000000  774706.000000  794005.000000  794005.000000   \n",
       "mean        3.612821       3.381087       3.167854       5.293002   \n",
       "std         0.973967       1.111598       1.002376       2.303739   \n",
       "min         1.000000       1.000000       1.000000       0.000000   \n",
       "25%         3.000000       3.000000       3.000000       4.000000   \n",
       "50%         4.000000       3.000000       3.000000       5.000000   \n",
       "75%         4.000000       4.000000       4.000000       7.000000   \n",
       "max         5.000000       5.000000       9.000000       9.000000   \n",
       "\n",
       "           RELAT_AB  \n",
       "count  794005.00000  \n",
       "mean        3.07222  \n",
       "std         1.36298  \n",
       "min         1.00000  \n",
       "25%         2.00000  \n",
       "50%         3.00000  \n",
       "75%         4.00000  \n",
       "max         9.00000  \n",
       "\n",
       "[8 rows x 81 columns]"
      ]
     },
     "execution_count": 4,
     "metadata": {},
     "output_type": "execute_result"
    }
   ],
   "source": [
    "azdias.describe()"
   ]
  },
  {
   "cell_type": "code",
   "execution_count": 5,
   "metadata": {},
   "outputs": [
    {
     "data": {
      "text/html": [
       "<div>\n",
       "<style>\n",
       "    .dataframe thead tr:only-child th {\n",
       "        text-align: right;\n",
       "    }\n",
       "\n",
       "    .dataframe thead th {\n",
       "        text-align: left;\n",
       "    }\n",
       "\n",
       "    .dataframe tbody tr th {\n",
       "        vertical-align: top;\n",
       "    }\n",
       "</style>\n",
       "<table border=\"1\" class=\"dataframe\">\n",
       "  <thead>\n",
       "    <tr style=\"text-align: right;\">\n",
       "      <th></th>\n",
       "      <th>attribute</th>\n",
       "      <th>information_level</th>\n",
       "      <th>type</th>\n",
       "      <th>missing_or_unknown</th>\n",
       "    </tr>\n",
       "  </thead>\n",
       "  <tbody>\n",
       "    <tr>\n",
       "      <th>count</th>\n",
       "      <td>85</td>\n",
       "      <td>85</td>\n",
       "      <td>85</td>\n",
       "      <td>85</td>\n",
       "    </tr>\n",
       "    <tr>\n",
       "      <th>unique</th>\n",
       "      <td>85</td>\n",
       "      <td>9</td>\n",
       "      <td>5</td>\n",
       "      <td>9</td>\n",
       "    </tr>\n",
       "    <tr>\n",
       "      <th>top</th>\n",
       "      <td>SOHO_KZ</td>\n",
       "      <td>person</td>\n",
       "      <td>ordinal</td>\n",
       "      <td>[-1]</td>\n",
       "    </tr>\n",
       "    <tr>\n",
       "      <th>freq</th>\n",
       "      <td>1</td>\n",
       "      <td>43</td>\n",
       "      <td>49</td>\n",
       "      <td>26</td>\n",
       "    </tr>\n",
       "  </tbody>\n",
       "</table>\n",
       "</div>"
      ],
      "text/plain": [
       "       attribute information_level     type missing_or_unknown\n",
       "count         85                85       85                 85\n",
       "unique        85                 9        5                  9\n",
       "top      SOHO_KZ            person  ordinal               [-1]\n",
       "freq           1                43       49                 26"
      ]
     },
     "execution_count": 5,
     "metadata": {},
     "output_type": "execute_result"
    }
   ],
   "source": [
    "feat_info.describe()\n"
   ]
  },
  {
   "cell_type": "markdown",
   "metadata": {},
   "source": [
    "> **Tip**: Add additional cells to keep everything in reasonably-sized chunks! Keyboard shortcut `esc --> a` (press escape to enter command mode, then press the 'A' key) adds a new cell before the active cell, and `esc --> b` adds a new cell after the active cell. If you need to convert an active cell to a markdown cell, use `esc --> m` and to convert to a code cell, use `esc --> y`. \n",
    "\n",
    "## Step 1: Preprocessing\n",
    "\n",
    "### Step 1.1: Assess Missing Data\n",
    "\n",
    "The feature summary file contains a summary of properties for each demographics data column. You will use this file to help you make cleaning decisions during this stage of the project. First of all, you should assess the demographics data in terms of missing data. Pay attention to the following points as you perform your analysis, and take notes on what you observe. Make sure that you fill in the **Discussion** cell with your findings and decisions at the end of each step that has one!\n",
    "\n",
    "#### Step 1.1.1: Convert Missing Value Codes to NaNs\n",
    "The fourth column of the feature attributes summary (loaded in above as `feat_info`) documents the codes from the data dictionary that indicate missing or unknown data. While the file encodes this as a list (e.g. `[-1,0]`), this will get read in as a string object. You'll need to do a little bit of parsing to make use of it to identify and clean the data. Convert data that matches a 'missing' or 'unknown' value code into a numpy NaN value. You might want to see how much data takes on a 'missing' or 'unknown' code, and how much data is naturally missing, as a point of interest.\n",
    "\n",
    "**As one more reminder, you are encouraged to add additional cells to break up your analysis into manageable chunks.**"
   ]
  },
  {
   "cell_type": "code",
   "execution_count": 6,
   "metadata": {},
   "outputs": [],
   "source": [
    "import ast\n",
    "for i, column in enumerate(azdias.columns):\n",
    "    str_n = feat_info['missing_or_unknown'].iloc[i]\n",
    "    if i in [57, 58, 59]:\n",
    "        list_n = str_n[1: -1].split(',')\n",
    "    else:\n",
    "        list_n = ast.literal_eval(str_n)\n",
    "    for num in list_n:\n",
    "        azdias[column].replace(num, np.NaN, inplace = True)"
   ]
  },
  {
   "cell_type": "markdown",
   "metadata": {},
   "source": [
    "#### Step 1.1.2: Assess Missing Data in Each Column\n",
    "\n",
    "How much missing data is present in each column? There are a few columns that are outliers in terms of the proportion of values that are missing. You will want to use matplotlib's [`hist()`](https://matplotlib.org/api/_as_gen/matplotlib.pyplot.hist.html) function to visualize the distribution of missing value counts to find these columns. Identify and document these columns. While some of these columns might have justifications for keeping or re-encoding the data, for this project you should just remove them from the dataframe. (Feel free to make remarks about these outlier columns in the discussion, however!)\n",
    "\n",
    "For the remaining features, are there any patterns in which columns have, or share, missing data?"
   ]
  },
  {
   "cell_type": "code",
   "execution_count": 7,
   "metadata": {},
   "outputs": [
    {
     "data": {
      "text/plain": [
       "AGER_TYP        76.955435\n",
       "GEBURTSJAHR     44.020282\n",
       "TITEL_KZ        99.757636\n",
       "ALTER_HH        34.813699\n",
       "KK_KUNDENTYP    65.596749\n",
       "KBA05_BAUMAX    53.468668\n",
       "dtype: float64"
      ]
     },
     "execution_count": 7,
     "metadata": {},
     "output_type": "execute_result"
    }
   ],
   "source": [
    "# Perform an assessment of how much missing data there is in each column of the\n",
    "# dataset.\n",
    "null_list = azdias.isnull().sum()\n",
    "null_per = null_list / len(azdias) * 100\n",
    "null_per[null_per > 20]\n"
   ]
  },
  {
   "cell_type": "code",
   "execution_count": 8,
   "metadata": {},
   "outputs": [
    {
     "data": {
      "image/png": "[encoded data removed]",
      "text/plain": [
       "<matplotlib.figure.Figure at 0x7f7d64557ba8>"
      ]
     },
     "metadata": {
      "needs_background": "light"
     },
     "output_type": "display_data"
    }
   ],
   "source": [
    "plt.figure(figsize=(10,5))\n",
    "plt.title('Ratio of Missing Data in Each Column')\n",
    "plt.hist(null_per, bins = np.linspace(10,100,10))\n",
    "plt.xlabel('Percentage of Missing Data')\n",
    "plt.ylabel('Count')\n",
    "plt.show()"
   ]
  },
  {
   "cell_type": "code",
   "execution_count": 9,
   "metadata": {},
   "outputs": [
    {
     "data": {
      "image/png": "[encoded data removed]",
      "text/plain": [
       "<matplotlib.figure.Figure at 0x7f7d361eda90>"
      ]
     },
     "metadata": {
      "needs_background": "light"
     },
     "output_type": "display_data"
    }
   ],
   "source": [
    "plt.figure(figsize=(10,5))\n",
    "plt.title('Ratio of Missing Data in Each Column (Below 20%)')\n",
    "plt.hist(null_per, bins = np.linspace(0,30,15))\n",
    "plt.xlabel('Percentage of Missing Data')\n",
    "plt.ylabel('Count')\n",
    "plt.show()"
   ]
  },
  {
   "cell_type": "code",
   "execution_count": 10,
   "metadata": {},
   "outputs": [],
   "source": [
    "azdias.drop(['TITEL_KZ', 'AGER_TYP', 'GEBURTSJAHR', 'ALTER_HH', 'KK_KUNDENTYP', 'KBA05_BAUMAX'], axis = 1, inplace = True)"
   ]
  },
  {
   "cell_type": "code",
   "execution_count": 11,
   "metadata": {},
   "outputs": [],
   "source": [
    "drop_columns = ['TITEL_KZ', 'AGER_TYP', 'GEBURTSJAHR', 'ALTER_HH', 'KK_KUNDENTYP', 'KBA05_BAUMAX']\n",
    "for drop_column in drop_columns:\n",
    "    drop_index = feat_info[feat_info['attribute'] == drop_column].index[0]\n",
    "    feat_info.drop(drop_index, axis = 0, inplace = True)\n"
   ]
  },
  {
   "cell_type": "code",
   "execution_count": 12,
   "metadata": {},
   "outputs": [
    {
     "data": {
      "text/plain": [
       "0         24\n",
       "116515     7\n",
       "4854       6\n",
       "133324     6\n",
       "93148      4\n",
       "73499      4\n",
       "111196     3\n",
       "99352      3\n",
       "93740      3\n",
       "97375      2\n",
       "77792      2\n",
       "158064     2\n",
       "93155      1\n",
       "584612     1\n",
       "108164     1\n",
       "685843     1\n",
       "147988     1\n",
       "99611      1\n",
       "97274      1\n",
       "108315     1\n",
       "73969      1\n",
       "18348      1\n",
       "97632      1\n",
       "476524     1\n",
       "2881       1\n",
       "105800     1\n",
       "97008      1\n",
       "310267     1\n",
       "94572      1\n",
       "889061     1\n",
       "392318     1\n",
       "dtype: int64"
      ]
     },
     "execution_count": 12,
     "metadata": {},
     "output_type": "execute_result"
    }
   ],
   "source": [
    "null_list.value_counts()\n"
   ]
  },
  {
   "cell_type": "code",
   "execution_count": 13,
   "metadata": {},
   "outputs": [
    {
     "data": {
      "text/plain": [
       "Int64Index([4854, 73499, 77792, 93148, 93740, 97375, 99352, 111196, 116515,\n",
       "            133324],\n",
       "           dtype='int64')"
      ]
     },
     "execution_count": 13,
     "metadata": {},
     "output_type": "execute_result"
    }
   ],
   "source": [
    "same_list_val = null_list.value_counts().index[1:11]\n",
    "same_list_val = same_list_val.sort_values()\n",
    "same_list_val"
   ]
  },
  {
   "cell_type": "code",
   "execution_count": 14,
   "metadata": {},
   "outputs": [],
   "source": [
    "null_sorted = null_list.sort_values()\n",
    "null_sorted_index = null_sorted.index"
   ]
  },
  {
   "cell_type": "code",
   "execution_count": 15,
   "metadata": {},
   "outputs": [],
   "source": [
    "same_list = [[] for _ in range(len(same_list_val))]\n",
    "cur_index = 0\n",
    "for i in range(len(null_sorted)):\n",
    "    if null_sorted[i] < same_list_val[cur_index]:\n",
    "        continue\n",
    "    if null_sorted[i] > same_list_val[cur_index]:\n",
    "        cur_index += 1\n",
    "        if cur_index == len(same_list_val):\n",
    "            break\n",
    "    if null_sorted[i] == same_list_val[cur_index]:\n",
    "        same_list[cur_index].append(null_sorted_index[i])"
   ]
  },
  {
   "cell_type": "code",
   "execution_count": 17,
   "metadata": {},
   "outputs": [
    {
     "name": "stdout",
     "output_type": "stream",
     "text": [
      "Features sharing 4854 missing values:\n",
      " ['GFK_URLAUBERTYP', 'LP_STATUS_GROB', 'LP_STATUS_FEIN', 'ONLINE_AFFINITAET', 'RETOURTYP_BK_S', 'CJT_GESAMTTYP'] \n",
      "\n",
      "Features sharing 73499 missing values:\n",
      " ['WOHNDAUER_2008', 'ANZ_TITEL', 'SOHO_KZ', 'ANZ_PERSONEN'] \n",
      "\n",
      "Features sharing 77792 missing values:\n",
      " ['LP_FAMILIE_GROB', 'LP_FAMILIE_FEIN'] \n",
      "\n",
      "Features sharing 93148 missing values:\n",
      " ['OST_WEST_KZ', 'WOHNLAGE', 'GEBAEUDETYP', 'MIN_GEBAEUDEJAHR'] \n",
      "\n",
      "Features sharing 93740 missing values:\n",
      " ['BALLRAUM', 'EWDICHTE', 'INNENSTADT'] \n",
      "\n",
      "Features sharing 97375 missing values:\n",
      " ['ARBEIT', 'RELAT_AB'] \n",
      "\n",
      "Features sharing 99352 missing values:\n",
      " ['CAMEO_DEUG_2015', 'CAMEO_DEU_2015', 'CAMEO_INTL_2015'] \n",
      "\n",
      "Features sharing 111196 missing values:\n",
      " ['HEALTH_TYP', 'VERS_TYP', 'SHOPPER_TYP'] \n",
      "\n",
      "Features sharing 116515 missing values:\n",
      " ['PLZ8_ANTG2', 'PLZ8_ANTG3', 'PLZ8_ANTG1', 'PLZ8_ANTG4', 'PLZ8_BAUMAX', 'PLZ8_HHZ', 'PLZ8_GBZ'] \n",
      "\n",
      "Features sharing 133324 missing values:\n",
      " ['KBA05_ANTG3', 'KBA05_ANTG2', 'KBA05_ANTG1', 'MOBI_REGIO', 'KBA05_GBZ', 'KBA05_ANTG4'] \n",
      "\n"
     ]
    }
   ],
   "source": [
    "for i in range(len(same_list_val)):\n",
    "    print('Features sharing {} missing values:\\n {} \\n'.format(same_list_val[i], same_list[i]))"
   ]
  },
  {
   "cell_type": "markdown",
   "metadata": {},
   "source": [
    "#### Discussion 1.1.2: Assess Missing Data in Each Column\n",
    "After plotting the data, I removed the columns containing more than 20% of missing data as I regarded those as outliers. \n",
    "Next I found out the features that share missing data. \n"
   ]
  },
  {
   "cell_type": "markdown",
   "metadata": {},
   "source": [
    "#### Step 1.1.3: Assess Missing Data in Each Row\n",
    "\n",
    "Now, you'll perform a similar assessment for the rows of the dataset. How much data is missing in each row? As with the columns, you should see some groups of points that have a very different numbers of missing values. Divide the data into two subsets: one for data points that are above some threshold for missing values, and a second subset for points below that threshold.\n",
    "\n",
    "In order to know what to do with the outlier rows, we should see if the distribution of data values on columns that are not missing data (or are missing very little data) are similar or different between the two groups. Select at least five of these columns and compare the distribution of values.\n",
    "- You can use seaborn's [`countplot()`](https://seaborn.pydata.org/generated/seaborn.countplot.html) function to create a bar chart of code frequencies and matplotlib's [`subplot()`](https://matplotlib.org/api/_as_gen/matplotlib.pyplot.subplot.html) function to put bar charts for the two subplots side by side.\n",
    "- To reduce repeated code, you might want to write a function that can perform this comparison, taking as one of its arguments a column to be compared.\n",
    "\n",
    "Depending on what you observe in your comparison, this will have implications on how you approach your conclusions later in the analysis. If the distributions of non-missing features look similar between the data with many missing values and the data with few or no missing values, then we could argue that simply dropping those points from the analysis won't present a major issue. On the other hand, if the data with many missing values looks very different from the data with few or no missing values, then we should make a note on those data as special. We'll revisit these data later on. **Either way, you should continue your analysis for now using just the subset of the data with few or no missing values.**"
   ]
  },
  {
   "cell_type": "code",
   "execution_count": 18,
   "metadata": {},
   "outputs": [],
   "source": [
    "azdias['Missing_num'] = azdias.isnull().sum(axis=1)\n",
    "\n"
   ]
  },
  {
   "cell_type": "code",
   "execution_count": 19,
   "metadata": {},
   "outputs": [
    {
     "data": {
      "text/plain": [
       "count    891221.000000\n",
       "mean          5.649894\n",
       "std          13.234687\n",
       "min           0.000000\n",
       "25%           0.000000\n",
       "50%           0.000000\n",
       "75%           3.000000\n",
       "max          49.000000\n",
       "Name: Missing_num, dtype: float64"
      ]
     },
     "execution_count": 19,
     "metadata": {},
     "output_type": "execute_result"
    }
   ],
   "source": [
    "azdias['Missing_num'].describe()\n"
   ]
  },
  {
   "cell_type": "code",
   "execution_count": 20,
   "metadata": {},
   "outputs": [
    {
     "data": {
      "image/png": "[encoded data removed]",
      "text/plain": [
       "<matplotlib.figure.Figure at 0x7f7d36294320>"
      ]
     },
     "metadata": {
      "needs_background": "light"
     },
     "output_type": "display_data"
    }
   ],
   "source": [
    "plt.figure(figsize=(16,4))\n",
    "plt.title('The Ratio of Missing Data per Row')\n",
    "plt.hist(azdias.isnull().sum(axis = 1) / len(azdias.columns) * 100, bins = np.linspace(0,100,100))\n",
    "plt.xlabel('Percentage of Missing Data')\n",
    "plt.ylabel('Count')\n",
    "plt.show()"
   ]
  },
  {
   "cell_type": "code",
   "execution_count": 21,
   "metadata": {},
   "outputs": [
    {
     "data": {
      "image/png": "[encoded data removed]",
      "text/plain": [
       "<matplotlib.figure.Figure at 0x7f7d362a9fd0>"
      ]
     },
     "metadata": {
      "needs_background": "light"
     },
     "output_type": "display_data"
    }
   ],
   "source": [
    "plt.figure(figsize=(16,4))\n",
    "plt.title('Number of Missing Data per Row')\n",
    "plt.hist(azdias.isnull().sum(axis = 1), bins = np.linspace(0,60,60))\n",
    "plt.xlabel('Number of Missing Data')\n",
    "plt.ylabel('Count')\n",
    "plt.show()"
   ]
  },
  {
   "cell_type": "code",
   "execution_count": 22,
   "metadata": {},
   "outputs": [],
   "source": [
    "azdias_1 = azdias[azdias['Missing_num'] <= 5]\n",
    "azdias_2 = azdias[azdias['Missing_num'] > 5]"
   ]
  },
  {
   "cell_type": "code",
   "execution_count": 23,
   "metadata": {},
   "outputs": [],
   "source": [
    "azdias_1 = azdias_1.drop('Missing_num', axis = 1)\n",
    "azdias_2 = azdias_2.drop('Missing_num', axis = 1)\n",
    "azdias = azdias.drop('Missing_num', axis = 1)"
   ]
  },
  {
   "cell_type": "code",
   "execution_count": 24,
   "metadata": {},
   "outputs": [],
   "source": [
    "def plot(column_name):\n",
    "    plt.figure(figsize=(12,4))\n",
    "    plt.subplot(121)\n",
    "    sns.set()\n",
    "    ax = sns.countplot(x = column_name, data=azdias_1)\n",
    "    plt.title(\"<= 5 Missing Value\")\n",
    "    plt.subplot(122)\n",
    "    sns.set(style=\"darkgrid\")\n",
    "    ax = sns.countplot(x = column_name, data=azdias_2)\n",
    "    plt.title(\"> 5 Missing Value\")\n",
    "    plt.tight_layout()"
   ]
  },
  {
   "cell_type": "code",
   "execution_count": 27,
   "metadata": {},
   "outputs": [
    {
     "data": {
      "image/png": "[encoded data removed]",
      "text/plain": [
       "<matplotlib.figure.Figure at 0x7f7d229a1eb8>"
      ]
     },
     "metadata": {},
     "output_type": "display_data"
    },
    {
     "data": {
      "image/png": "[encoded data removed]",
      "text/plain": [
       "<matplotlib.figure.Figure at 0x7f7d33ff8c50>"
      ]
     },
     "metadata": {},
     "output_type": "display_data"
    },
    {
     "data": {
      "image/png": "[encoded data removed]",
      "text/plain": [
       "<matplotlib.figure.Figure at 0x7f7d22899080>"
      ]
     },
     "metadata": {},
     "output_type": "display_data"
    },
    {
     "data": {
      "image/png": "[encoded data removed]",
      "text/plain": [
       "<matplotlib.figure.Figure at 0x7f7d22bd10f0>"
      ]
     },
     "metadata": {},
     "output_type": "display_data"
    },
    {
     "data": {
      "image/png": "[encoded data removed]",
      "text/plain": [
       "<matplotlib.figure.Figure at 0x7f7d2279b748>"
      ]
     },
     "metadata": {},
     "output_type": "display_data"
    }
   ],
   "source": [
    "import random\n",
    "for i in range(5):\n",
    "    plot(azdias.columns[random.randint(0, 85)])"
   ]
  },
  {
   "cell_type": "markdown",
   "metadata": {},
   "source": [
    "#### Discussion 1.1.3: Assess Missing Data in Each Row\n",
    "\n",
    "After plotting the histogram we can see that the majority of rows have roughly 5% missing values, 5% of 85 columns amounts to about 5 columns. Therefore I divided the rows into two groups those with less than or equal to 5 missing columns and those with greater than 5."
   ]
  },
  {
   "cell_type": "markdown",
   "metadata": {},
   "source": [
    "### Step 1.2: Select and Re-Encode Features\n",
    "\n",
    "Checking for missing data isn't the only way in which you can prepare a dataset for analysis. Since the unsupervised learning techniques to be used will only work on data that is encoded numerically, you need to make a few encoding changes or additional assumptions to be able to make progress. In addition, while almost all of the values in the dataset are encoded using numbers, not all of them represent numeric values. Check the third column of the feature summary (`feat_info`) for a summary of types of measurement.\n",
    "- For numeric and interval data, these features can be kept without changes.\n",
    "- Most of the variables in the dataset are ordinal in nature. While ordinal values may technically be non-linear in spacing, make the simplifying assumption that the ordinal variables can be treated as being interval in nature (that is, kept without any changes).\n",
    "- Special handling may be necessary for the remaining two variable types: categorical, and 'mixed'.\n",
    "\n",
    "In the first two parts of this sub-step, you will perform an investigation of the categorical and mixed-type features and make a decision on each of them, whether you will keep, drop, or re-encode each. Then, in the last part, you will create a new data frame with only the selected and engineered columns.\n",
    "\n",
    "Data wrangling is often the trickiest part of the data analysis process, and there's a lot of it to be done here. But stick with it: once you're done with this step, you'll be ready to get to the machine learning parts of the project!"
   ]
  },
  {
   "cell_type": "code",
   "execution_count": 28,
   "metadata": {},
   "outputs": [
    {
     "data": {
      "text/plain": [
       "ordinal        49\n",
       "categorical    18\n",
       "mixed           6\n",
       "numeric         6\n",
       "Name: type, dtype: int64"
      ]
     },
     "execution_count": 28,
     "metadata": {},
     "output_type": "execute_result"
    }
   ],
   "source": [
    "feat_info.type.value_counts()\n"
   ]
  },
  {
   "cell_type": "code",
   "execution_count": 29,
   "metadata": {},
   "outputs": [
    {
     "data": {
      "text/html": [
       "<div>\n",
       "<style>\n",
       "    .dataframe thead tr:only-child th {\n",
       "        text-align: right;\n",
       "    }\n",
       "\n",
       "    .dataframe thead th {\n",
       "        text-align: left;\n",
       "    }\n",
       "\n",
       "    .dataframe tbody tr th {\n",
       "        vertical-align: top;\n",
       "    }\n",
       "</style>\n",
       "<table border=\"1\" class=\"dataframe\">\n",
       "  <thead>\n",
       "    <tr style=\"text-align: right;\">\n",
       "      <th></th>\n",
       "      <th>attribute</th>\n",
       "      <th>information_level</th>\n",
       "      <th>type</th>\n",
       "      <th>missing_or_unknown</th>\n",
       "    </tr>\n",
       "  </thead>\n",
       "  <tbody>\n",
       "    <tr>\n",
       "      <th>2</th>\n",
       "      <td>ANREDE_KZ</td>\n",
       "      <td>person</td>\n",
       "      <td>categorical</td>\n",
       "      <td>[-1,0]</td>\n",
       "    </tr>\n",
       "    <tr>\n",
       "      <th>3</th>\n",
       "      <td>CJT_GESAMTTYP</td>\n",
       "      <td>person</td>\n",
       "      <td>categorical</td>\n",
       "      <td>[0]</td>\n",
       "    </tr>\n",
       "    <tr>\n",
       "      <th>10</th>\n",
       "      <td>FINANZTYP</td>\n",
       "      <td>person</td>\n",
       "      <td>categorical</td>\n",
       "      <td>[-1]</td>\n",
       "    </tr>\n",
       "    <tr>\n",
       "      <th>12</th>\n",
       "      <td>GFK_URLAUBERTYP</td>\n",
       "      <td>person</td>\n",
       "      <td>categorical</td>\n",
       "      <td>[]</td>\n",
       "    </tr>\n",
       "    <tr>\n",
       "      <th>13</th>\n",
       "      <td>GREEN_AVANTGARDE</td>\n",
       "      <td>person</td>\n",
       "      <td>categorical</td>\n",
       "      <td>[]</td>\n",
       "    </tr>\n",
       "    <tr>\n",
       "      <th>17</th>\n",
       "      <td>LP_FAMILIE_FEIN</td>\n",
       "      <td>person</td>\n",
       "      <td>categorical</td>\n",
       "      <td>[0]</td>\n",
       "    </tr>\n",
       "    <tr>\n",
       "      <th>18</th>\n",
       "      <td>LP_FAMILIE_GROB</td>\n",
       "      <td>person</td>\n",
       "      <td>categorical</td>\n",
       "      <td>[0]</td>\n",
       "    </tr>\n",
       "    <tr>\n",
       "      <th>19</th>\n",
       "      <td>LP_STATUS_FEIN</td>\n",
       "      <td>person</td>\n",
       "      <td>categorical</td>\n",
       "      <td>[0]</td>\n",
       "    </tr>\n",
       "    <tr>\n",
       "      <th>20</th>\n",
       "      <td>LP_STATUS_GROB</td>\n",
       "      <td>person</td>\n",
       "      <td>categorical</td>\n",
       "      <td>[0]</td>\n",
       "    </tr>\n",
       "    <tr>\n",
       "      <th>21</th>\n",
       "      <td>NATIONALITAET_KZ</td>\n",
       "      <td>person</td>\n",
       "      <td>categorical</td>\n",
       "      <td>[-1,0]</td>\n",
       "    </tr>\n",
       "    <tr>\n",
       "      <th>38</th>\n",
       "      <td>SHOPPER_TYP</td>\n",
       "      <td>person</td>\n",
       "      <td>categorical</td>\n",
       "      <td>[-1]</td>\n",
       "    </tr>\n",
       "    <tr>\n",
       "      <th>39</th>\n",
       "      <td>SOHO_KZ</td>\n",
       "      <td>person</td>\n",
       "      <td>categorical</td>\n",
       "      <td>[-1]</td>\n",
       "    </tr>\n",
       "    <tr>\n",
       "      <th>41</th>\n",
       "      <td>VERS_TYP</td>\n",
       "      <td>person</td>\n",
       "      <td>categorical</td>\n",
       "      <td>[-1]</td>\n",
       "    </tr>\n",
       "    <tr>\n",
       "      <th>42</th>\n",
       "      <td>ZABEOTYP</td>\n",
       "      <td>person</td>\n",
       "      <td>categorical</td>\n",
       "      <td>[-1,9]</td>\n",
       "    </tr>\n",
       "    <tr>\n",
       "      <th>52</th>\n",
       "      <td>GEBAEUDETYP</td>\n",
       "      <td>building</td>\n",
       "      <td>categorical</td>\n",
       "      <td>[-1,0]</td>\n",
       "    </tr>\n",
       "    <tr>\n",
       "      <th>55</th>\n",
       "      <td>OST_WEST_KZ</td>\n",
       "      <td>building</td>\n",
       "      <td>categorical</td>\n",
       "      <td>[-1]</td>\n",
       "    </tr>\n",
       "    <tr>\n",
       "      <th>57</th>\n",
       "      <td>CAMEO_DEUG_2015</td>\n",
       "      <td>microcell_rr4</td>\n",
       "      <td>categorical</td>\n",
       "      <td>[-1,X]</td>\n",
       "    </tr>\n",
       "    <tr>\n",
       "      <th>58</th>\n",
       "      <td>CAMEO_DEU_2015</td>\n",
       "      <td>microcell_rr4</td>\n",
       "      <td>categorical</td>\n",
       "      <td>[XX]</td>\n",
       "    </tr>\n",
       "  </tbody>\n",
       "</table>\n",
       "</div>"
      ],
      "text/plain": [
       "           attribute information_level         type missing_or_unknown\n",
       "2          ANREDE_KZ            person  categorical             [-1,0]\n",
       "3      CJT_GESAMTTYP            person  categorical                [0]\n",
       "10         FINANZTYP            person  categorical               [-1]\n",
       "12   GFK_URLAUBERTYP            person  categorical                 []\n",
       "13  GREEN_AVANTGARDE            person  categorical                 []\n",
       "17   LP_FAMILIE_FEIN            person  categorical                [0]\n",
       "18   LP_FAMILIE_GROB            person  categorical                [0]\n",
       "19    LP_STATUS_FEIN            person  categorical                [0]\n",
       "20    LP_STATUS_GROB            person  categorical                [0]\n",
       "21  NATIONALITAET_KZ            person  categorical             [-1,0]\n",
       "38       SHOPPER_TYP            person  categorical               [-1]\n",
       "39           SOHO_KZ            person  categorical               [-1]\n",
       "41          VERS_TYP            person  categorical               [-1]\n",
       "42          ZABEOTYP            person  categorical             [-1,9]\n",
       "52       GEBAEUDETYP          building  categorical             [-1,0]\n",
       "55       OST_WEST_KZ          building  categorical               [-1]\n",
       "57   CAMEO_DEUG_2015     microcell_rr4  categorical             [-1,X]\n",
       "58    CAMEO_DEU_2015     microcell_rr4  categorical               [XX]"
      ]
     },
     "execution_count": 29,
     "metadata": {},
     "output_type": "execute_result"
    }
   ],
   "source": [
    "feat_info[feat_info['type'] == 'categorical']\n"
   ]
  },
  {
   "cell_type": "code",
   "execution_count": 30,
   "metadata": {},
   "outputs": [
    {
     "data": {
      "image/png": "[encoded data removed]",
      "text/plain": [
       "<matplotlib.figure.Figure at 0x7f7d22636828>"
      ]
     },
     "metadata": {},
     "output_type": "display_data"
    },
    {
     "data": {
      "image/png": "[encoded data removed]",
      "text/plain": [
       "<matplotlib.figure.Figure at 0x7f7d227efc18>"
      ]
     },
     "metadata": {},
     "output_type": "display_data"
    },
    {
     "data": {
      "image/png": "[encoded data removed]",
      "text/plain": [
       "<matplotlib.figure.Figure at 0x7f7d226120b8>"
      ]
     },
     "metadata": {},
     "output_type": "display_data"
    },
    {
     "data": {
      "image/png": "[encoded data removed]",
      "text/plain": [
       "<matplotlib.figure.Figure at 0x7f7d22625550>"
      ]
     },
     "metadata": {},
     "output_type": "display_data"
    },
    {
     "data": {
      "image/png": "[encoded data removed]",
      "text/plain": [
       "<matplotlib.figure.Figure at 0x7f7d225686d8>"
      ]
     },
     "metadata": {},
     "output_type": "display_data"
    },
    {
     "data": {
      "image/png": "[encoded data removed]",
      "text/plain": [
       "<matplotlib.figure.Figure at 0x7f7d224955f8>"
      ]
     },
     "metadata": {},
     "output_type": "display_data"
    },
    {
     "data": {
      "image/png": "[encoded data removed]",
      "text/plain": [
       "<matplotlib.figure.Figure at 0x7f7d22476978>"
      ]
     },
     "metadata": {},
     "output_type": "display_data"
    },
    {
     "data": {
      "image/png": "[encoded data removed]",
      "text/plain": [
       "<matplotlib.figure.Figure at 0x7f7d22456198>"
      ]
     },
     "metadata": {},
     "output_type": "display_data"
    },
    {
     "data": {
      "image/png": "[encoded data removed]",
      "text/plain": [
       "<matplotlib.figure.Figure at 0x7f7d22393b00>"
      ]
     },
     "metadata": {},
     "output_type": "display_data"
    },
    {
     "data": {
      "image/png": "[encoded data removed]",
      "text/plain": [
       "<matplotlib.figure.Figure at 0x7f7d22410048>"
      ]
     },
     "metadata": {},
     "output_type": "display_data"
    },
    {
     "data": {
      "image/png": "[encoded data removed]",
      "text/plain": [
       "<matplotlib.figure.Figure at 0x7f7d22495898>"
      ]
     },
     "metadata": {},
     "output_type": "display_data"
    },
    {
     "data": {
      "image/png": "[encoded data removed]",
      "text/plain": [
       "<matplotlib.figure.Figure at 0x7f7d22440588>"
      ]
     },
     "metadata": {},
     "output_type": "display_data"
    },
    {
     "data": {
      "image/png": "[encoded data removed]",
      "text/plain": [
       "<matplotlib.figure.Figure at 0x7f7d226de4e0>"
      ]
     },
     "metadata": {},
     "output_type": "display_data"
    },
    {
     "data": {
      "image/png": "[encoded data removed]",
      "text/plain": [
       "<matplotlib.figure.Figure at 0x7f7d22d239e8>"
      ]
     },
     "metadata": {},
     "output_type": "display_data"
    },
    {
     "data": {
      "image/png": "[encoded data removed]",
      "text/plain": [
       "<matplotlib.figure.Figure at 0x7f7d23467588>"
      ]
     },
     "metadata": {},
     "output_type": "display_data"
    },
    {
     "data": {
      "image/png": "[encoded data removed]",
      "text/plain": [
       "<matplotlib.figure.Figure at 0x7f7d23552da0>"
      ]
     },
     "metadata": {},
     "output_type": "display_data"
    },
    {
     "data": {
      "image/png": "[encoded data removed]",
      "text/plain": [
       "<matplotlib.figure.Figure at 0x7f7d2384f6d8>"
      ]
     },
     "metadata": {},
     "output_type": "display_data"
    },
    {
     "data": {
      "image/png": "[encoded data removed]",
      "text/plain": [
       "<matplotlib.figure.Figure at 0x7f7d22c6ea58>"
      ]
     },
     "metadata": {},
     "output_type": "display_data"
    }
   ],
   "source": [
    "for attribute in feat_info[feat_info['type'] == 'categorical']['attribute']:\n",
    "    sns.set()\n",
    "    ax = sns.countplot(x = attribute, data=azdias_1)\n",
    "    plt.show()"
   ]
  },
  {
   "cell_type": "code",
   "execution_count": 31,
   "metadata": {},
   "outputs": [],
   "source": [
    "azdias_1 = pd.get_dummies(azdias_1, columns = ['CJT_GESAMTTYP','FINANZTYP', 'LP_FAMILIE_GROB', 'LP_STATUS_GROB', \n",
    "                                               'NATIONALITAET_KZ', 'SHOPPER_TYP', 'ZABEOTYP', 'OST_WEST_KZ'])"
   ]
  },
  {
   "cell_type": "code",
   "execution_count": 32,
   "metadata": {},
   "outputs": [],
   "source": [
    "azdias_encode = azdias_1.drop(['GFK_URLAUBERTYP', 'LP_FAMILIE_FEIN', 'LP_STATUS_FEIN', 'GEBAEUDETYP', 'CAMEO_DEUG_2015', 'CAMEO_DEU_2015'], axis = 1)"
   ]
  },
  {
   "cell_type": "markdown",
   "metadata": {},
   "source": [
    "#### Step 1.2.1: Re-Encode Categorical Features\n",
    "\n",
    "For categorical data, you would ordinarily need to encode the levels as dummy variables. Depending on the number of categories, perform one of the following:\n",
    "- For binary (two-level) categoricals that take numeric values, you can keep them without needing to do anything.\n",
    "- There is one binary variable that takes on non-numeric values. For this one, you need to re-encode the values as numbers or create a dummy variable.\n",
    "- For multi-level categoricals (three or more values), you can choose to encode the values using multiple dummy variables (e.g. via [OneHotEncoder](http://scikit-learn.org/stable/modules/generated/sklearn.preprocessing.OneHotEncoder.html)), or (to keep things straightforward) just drop them from the analysis. As always, document your choices in the Discussion section."
   ]
  },
  {
   "cell_type": "code",
   "execution_count": 33,
   "metadata": {},
   "outputs": [
    {
     "data": {
      "text/html": [
       "<div>\n",
       "<style>\n",
       "    .dataframe thead tr:only-child th {\n",
       "        text-align: right;\n",
       "    }\n",
       "\n",
       "    .dataframe thead th {\n",
       "        text-align: left;\n",
       "    }\n",
       "\n",
       "    .dataframe tbody tr th {\n",
       "        vertical-align: top;\n",
       "    }\n",
       "</style>\n",
       "<table border=\"1\" class=\"dataframe\">\n",
       "  <thead>\n",
       "    <tr style=\"text-align: right;\">\n",
       "      <th></th>\n",
       "      <th>attribute</th>\n",
       "      <th>information_level</th>\n",
       "      <th>type</th>\n",
       "      <th>missing_or_unknown</th>\n",
       "    </tr>\n",
       "  </thead>\n",
       "  <tbody>\n",
       "    <tr>\n",
       "      <th>15</th>\n",
       "      <td>LP_LEBENSPHASE_FEIN</td>\n",
       "      <td>person</td>\n",
       "      <td>mixed</td>\n",
       "      <td>[0]</td>\n",
       "    </tr>\n",
       "    <tr>\n",
       "      <th>16</th>\n",
       "      <td>LP_LEBENSPHASE_GROB</td>\n",
       "      <td>person</td>\n",
       "      <td>mixed</td>\n",
       "      <td>[0]</td>\n",
       "    </tr>\n",
       "    <tr>\n",
       "      <th>22</th>\n",
       "      <td>PRAEGENDE_JUGENDJAHRE</td>\n",
       "      <td>person</td>\n",
       "      <td>mixed</td>\n",
       "      <td>[-1,0]</td>\n",
       "    </tr>\n",
       "    <tr>\n",
       "      <th>56</th>\n",
       "      <td>WOHNLAGE</td>\n",
       "      <td>building</td>\n",
       "      <td>mixed</td>\n",
       "      <td>[-1]</td>\n",
       "    </tr>\n",
       "    <tr>\n",
       "      <th>59</th>\n",
       "      <td>CAMEO_INTL_2015</td>\n",
       "      <td>microcell_rr4</td>\n",
       "      <td>mixed</td>\n",
       "      <td>[-1,XX]</td>\n",
       "    </tr>\n",
       "    <tr>\n",
       "      <th>79</th>\n",
       "      <td>PLZ8_BAUMAX</td>\n",
       "      <td>macrocell_plz8</td>\n",
       "      <td>mixed</td>\n",
       "      <td>[-1,0]</td>\n",
       "    </tr>\n",
       "  </tbody>\n",
       "</table>\n",
       "</div>"
      ],
      "text/plain": [
       "                attribute information_level   type missing_or_unknown\n",
       "15    LP_LEBENSPHASE_FEIN            person  mixed                [0]\n",
       "16    LP_LEBENSPHASE_GROB            person  mixed                [0]\n",
       "22  PRAEGENDE_JUGENDJAHRE            person  mixed             [-1,0]\n",
       "56               WOHNLAGE          building  mixed               [-1]\n",
       "59        CAMEO_INTL_2015     microcell_rr4  mixed            [-1,XX]\n",
       "79            PLZ8_BAUMAX    macrocell_plz8  mixed             [-1,0]"
      ]
     },
     "execution_count": 33,
     "metadata": {},
     "output_type": "execute_result"
    }
   ],
   "source": [
    "feat_info[feat_info['type'] == 'mixed']\n",
    "\n"
   ]
  },
  {
   "cell_type": "code",
   "execution_count": 34,
   "metadata": {},
   "outputs": [
    {
     "data": {
      "text/plain": [
       "14.0    168815\n",
       "8.0     130339\n",
       "5.0      80064\n",
       "10.0     78492\n",
       "3.0      50728\n",
       "15.0     38221\n",
       "11.0     31951\n",
       "9.0      31607\n",
       "6.0      24650\n",
       "12.0     22855\n",
       "4.0      19715\n",
       "1.0      18924\n",
       "2.0       7044\n",
       "13.0      5050\n",
       "7.0       3805\n",
       "Name: PRAEGENDE_JUGENDJAHRE, dtype: int64"
      ]
     },
     "execution_count": 34,
     "metadata": {},
     "output_type": "execute_result"
    }
   ],
   "source": [
    "azdias_encode['PRAEGENDE_JUGENDJAHRE'].value_counts()\n"
   ]
  },
  {
   "cell_type": "markdown",
   "metadata": {},
   "source": [
    "#### Discussion 1.2.1: Re-Encode Categorical Features\n",
    "\n",
    "Five two level catergorical features were present, only one had non-numeric values, which we will hot encode. \n",
    "Eight catergorical features were then hot encoded by get dummies.\n",
    "Six features were dropped for having greater than 6 values."
   ]
  },
  {
   "cell_type": "markdown",
   "metadata": {},
   "source": [
    "#### Step 1.2.2: Engineer Mixed-Type Features\n",
    "\n",
    "There are a handful of features that are marked as \"mixed\" in the feature summary that require special treatment in order to be included in the analysis. There are two in particular that deserve attention; the handling of the rest are up to your own choices:\n",
    "- \"PRAEGENDE_JUGENDJAHRE\" combines information on three dimensions: generation by decade, movement (mainstream vs. avantgarde), and nation (east vs. west). While there aren't enough levels to disentangle east from west, you should create two new variables to capture the other two dimensions: an interval-type variable for decade, and a binary variable for movement.\n",
    "- \"CAMEO_INTL_2015\" combines information on two axes: wealth and life stage. Break up the two-digit codes by their 'tens'-place and 'ones'-place digits into two new ordinal variables (which, for the purposes of this project, is equivalent to just treating them as their raw numeric values).\n",
    "- If you decide to keep or engineer new features around the other mixed-type features, make sure you note your steps in the Discussion section.\n",
    "\n",
    "Be sure to check `Data_Dictionary.md` for the details needed to finish these tasks."
   ]
  },
  {
   "cell_type": "code",
   "execution_count": 37,
   "metadata": {},
   "outputs": [],
   "source": [
    "def new_feature_1(azdias_encode):\n",
    "    azdias_encode.loc[azdias_encode['PRAEGENDE_JUGENDJAHRE'] == 1.0, 'Decade'] = '40s'\n",
    "    azdias_encode.loc[azdias_encode['PRAEGENDE_JUGENDJAHRE'] == 1.0, 'Movement'] = 'MainStream'\n",
    "    azdias_encode.loc[azdias_encode['PRAEGENDE_JUGENDJAHRE'] == 1.0, 'Nation'] = 'E+W'\n",
    "\n",
    "    azdias_encode.loc[azdias_encode['PRAEGENDE_JUGENDJAHRE'] == 2.0, 'Decade'] = '40s'\n",
    "    azdias_encode.loc[azdias_encode['PRAEGENDE_JUGENDJAHRE'] == 2.0, 'Movement'] = 'Avantgarde'\n",
    "    azdias_encode.loc[azdias_encode['PRAEGENDE_JUGENDJAHRE'] == 2.0, 'Nation'] = 'E+W'\n",
    "\n",
    "    azdias_encode.loc[azdias_encode['PRAEGENDE_JUGENDJAHRE'] == 3.0, 'Decade'] = '50s'\n",
    "    azdias_encode.loc[azdias_encode['PRAEGENDE_JUGENDJAHRE'] == 3.0, 'Movement'] = 'MainStream'\n",
    "    azdias_encode.loc[azdias_encode['PRAEGENDE_JUGENDJAHRE'] == 3.0, 'Nation'] = 'E+W'\n",
    "\n",
    "    azdias_encode.loc[azdias_encode['PRAEGENDE_JUGENDJAHRE'] == 4.0, 'Decade'] = '50s'\n",
    "    azdias_encode.loc[azdias_encode['PRAEGENDE_JUGENDJAHRE'] == 4.0, 'Movement'] = 'Avantgarde'\n",
    "    azdias_encode.loc[azdias_encode['PRAEGENDE_JUGENDJAHRE'] == 4.0, 'Nation'] = 'E+W'\n",
    "\n",
    "    azdias_encode.loc[azdias_encode['PRAEGENDE_JUGENDJAHRE'] == 5.0, 'Decade'] = '60s'\n",
    "    azdias_encode.loc[azdias_encode['PRAEGENDE_JUGENDJAHRE'] == 5.0, 'Movement'] = 'MainStream'\n",
    "    azdias_encode.loc[azdias_encode['PRAEGENDE_JUGENDJAHRE'] == 5.0, 'Nation'] = 'E+W'\n",
    "\n",
    "    azdias_encode.loc[azdias_encode['PRAEGENDE_JUGENDJAHRE'] == 6.0, 'Decade'] = '60s'\n",
    "    azdias_encode.loc[azdias_encode['PRAEGENDE_JUGENDJAHRE'] == 6.0, 'Movement'] = 'Avantgarde'\n",
    "    azdias_encode.loc[azdias_encode['PRAEGENDE_JUGENDJAHRE'] == 6.0, 'Nation'] = 'W'\n",
    "\n",
    "    azdias_encode.loc[azdias_encode['PRAEGENDE_JUGENDJAHRE'] == 7.0, 'Decade'] = '60s'\n",
    "    azdias_encode.loc[azdias_encode['PRAEGENDE_JUGENDJAHRE'] == 7.0, 'Movement'] = 'Avantgarde'\n",
    "    azdias_encode.loc[azdias_encode['PRAEGENDE_JUGENDJAHRE'] == 7.0, 'Nation'] = 'E'\n",
    "\n",
    "    azdias_encode.loc[azdias_encode['PRAEGENDE_JUGENDJAHRE'] == 8.0, 'Decade'] = '70s'\n",
    "    azdias_encode.loc[azdias_encode['PRAEGENDE_JUGENDJAHRE'] == 8.0, 'Movement'] = 'MainStream'\n",
    "    azdias_encode.loc[azdias_encode['PRAEGENDE_JUGENDJAHRE'] == 8.0, 'Nation'] = 'E+W'\n",
    "\n",
    "    azdias_encode.loc[azdias_encode['PRAEGENDE_JUGENDJAHRE'] == 9.0, 'Decade'] = '70s'\n",
    "    azdias_encode.loc[azdias_encode['PRAEGENDE_JUGENDJAHRE'] == 9.0, 'Movement'] = 'Avantgarde'\n",
    "    azdias_encode.loc[azdias_encode['PRAEGENDE_JUGENDJAHRE'] == 9.0, 'Nation'] = 'E+W'\n",
    "\n",
    "    azdias_encode.loc[azdias_encode['PRAEGENDE_JUGENDJAHRE'] == 10.0, 'Decade'] = '80s'\n",
    "    azdias_encode.loc[azdias_encode['PRAEGENDE_JUGENDJAHRE'] == 10.0, 'Movement'] = 'MainStream'\n",
    "    azdias_encode.loc[azdias_encode['PRAEGENDE_JUGENDJAHRE'] == 10.0, 'Nation'] = 'W'\n",
    "\n",
    "    azdias_encode.loc[azdias_encode['PRAEGENDE_JUGENDJAHRE'] == 11.0, 'Decade'] = '80s'\n",
    "    azdias_encode.loc[azdias_encode['PRAEGENDE_JUGENDJAHRE'] == 11.0, 'Movement'] = 'Avantgarde'\n",
    "    azdias_encode.loc[azdias_encode['PRAEGENDE_JUGENDJAHRE'] == 11.0, 'Nation'] = 'W'\n",
    "\n",
    "    azdias_encode.loc[azdias_encode['PRAEGENDE_JUGENDJAHRE'] == 12.0, 'Decade'] = '80s'\n",
    "    azdias_encode.loc[azdias_encode['PRAEGENDE_JUGENDJAHRE'] == 12.0, 'Movement'] = 'MainStream'\n",
    "    azdias_encode.loc[azdias_encode['PRAEGENDE_JUGENDJAHRE'] == 12.0, 'Nation'] = 'E'\n",
    "\n",
    "    azdias_encode.loc[azdias_encode['PRAEGENDE_JUGENDJAHRE'] == 13.0, 'Decade'] = '80s'\n",
    "    azdias_encode.loc[azdias_encode['PRAEGENDE_JUGENDJAHRE'] == 13.0, 'Movement'] = 'Avantgarde'\n",
    "    azdias_encode.loc[azdias_encode['PRAEGENDE_JUGENDJAHRE'] == 13.0, 'Nation'] = 'E'\n",
    "\n",
    "    azdias_encode.loc[azdias_encode['PRAEGENDE_JUGENDJAHRE'] == 14.0, 'Decade'] = '90s'\n",
    "    azdias_encode.loc[azdias_encode['PRAEGENDE_JUGENDJAHRE'] == 14.0, 'Movement'] = 'MainStream'\n",
    "    azdias_encode.loc[azdias_encode['PRAEGENDE_JUGENDJAHRE'] == 14.0, 'Nation'] = 'E+W'\n",
    "\n",
    "    azdias_encode.loc[azdias_encode['PRAEGENDE_JUGENDJAHRE'] == 15.0, 'Decade'] = '90s'\n",
    "    azdias_encode.loc[azdias_encode['PRAEGENDE_JUGENDJAHRE'] == 15.0, 'Movement'] = 'Avantgarde'\n",
    "    azdias_encode.loc[azdias_encode['PRAEGENDE_JUGENDJAHRE'] == 15.0, 'Nation'] = 'E+W'\n",
    "    \n",
    "    return azdias_encode"
   ]
  },
  {
   "cell_type": "code",
   "execution_count": 38,
   "metadata": {},
   "outputs": [],
   "source": [
    "azdias_encode = new_feature_1(azdias_encode)\n"
   ]
  },
  {
   "cell_type": "code",
   "execution_count": 39,
   "metadata": {},
   "outputs": [],
   "source": [
    "azdias_encode = pd.get_dummies(azdias_encode, columns = ['Decade', 'Movement', 'Nation'])\n",
    "azdias_encode = azdias_encode.drop('PRAEGENDE_JUGENDJAHRE', axis = 1)"
   ]
  },
  {
   "cell_type": "code",
   "execution_count": 40,
   "metadata": {},
   "outputs": [],
   "source": [
    "def new_feature_2(azdias_encode):\n",
    "    azdias_encode[\"CAMEO_INTL_2015\"] = azdias_encode[\"CAMEO_INTL_2015\"].astype(float)\n",
    "\n",
    "    azdias_encode.loc[azdias_encode[\"CAMEO_INTL_2015\"] // 10 == 1.0, 'Wealth'] = 'Wealthy'\n",
    "    azdias_encode.loc[azdias_encode[\"CAMEO_INTL_2015\"] // 10 == 2.0, 'Wealth'] = 'Prosperous'\n",
    "    azdias_encode.loc[azdias_encode[\"CAMEO_INTL_2015\"] // 10 == 3.0, 'Wealth'] = 'Comfortable'\n",
    "    azdias_encode.loc[azdias_encode[\"CAMEO_INTL_2015\"] // 10 == 4.0, 'Wealth'] = 'Lower Class'\n",
    "    azdias_encode.loc[azdias_encode[\"CAMEO_INTL_2015\"] // 10 == 5.0, 'Wealth'] = 'Poorer'\n",
    "\n",
    "    azdias_encode.loc[azdias_encode[\"CAMEO_INTL_2015\"] % 10 == 1.0, 'Life_Stage'] = 'Couples & Singles'\n",
    "    azdias_encode.loc[azdias_encode[\"CAMEO_INTL_2015\"] % 10 == 2.0, 'Life_Stage'] = 'Young Couples With Children'\n",
    "    azdias_encode.loc[azdias_encode[\"CAMEO_INTL_2015\"] % 10 == 3.0, 'Life_Stage'] = 'Families With School Age Children'\n",
    "    azdias_encode.loc[azdias_encode[\"CAMEO_INTL_2015\"] % 10 == 4.0, 'Life_Stage'] = 'Older Families &  Mature Couples'\n",
    "    azdias_encode.loc[azdias_encode[\"CAMEO_INTL_2015\"] % 10 == 5.0, 'Life_Stage'] = 'Elders In Retirement'\n",
    "    return azdias_encode"
   ]
  },
  {
   "cell_type": "code",
   "execution_count": 41,
   "metadata": {},
   "outputs": [],
   "source": [
    "azdias_encode = new_feature_2(azdias_encode)\n"
   ]
  },
  {
   "cell_type": "code",
   "execution_count": 42,
   "metadata": {},
   "outputs": [],
   "source": [
    "azdias_encode = pd.get_dummies(azdias_encode, columns = ['Wealth', 'Life_Stage'])\n",
    "azdias_encode = azdias_encode.drop('CAMEO_INTL_2015', axis = 1)"
   ]
  },
  {
   "cell_type": "code",
   "execution_count": null,
   "metadata": {},
   "outputs": [],
   "source": [
    "azdias_encode.drop(['LP_LEBENSPHASE_FEIN', 'LP_LEBENSPHASE_GROB', \n",
    "                              'WOHNLAGE', 'PLZ8_BAUMAX'],\n",
    "                   axis = 1, inplace = True)"
   ]
  },
  {
   "cell_type": "markdown",
   "metadata": {},
   "source": [
    "#### Discussion 1.2.2: Engineer Mixed-Type Features\n",
    "\n",
    "Created two new functions, the first to split the data into 3 features and drop the original. The second split into 3 features and dropped the original. Giving more clarity and understanding for the dataset. Other features were dropped. "
   ]
  },
  {
   "cell_type": "markdown",
   "metadata": {},
   "source": [
    "#### Step 1.2.3: Complete Feature Selection\n",
    "\n",
    "In order to finish this step up, you need to make sure that your data frame now only has the columns that you want to keep. To summarize, the dataframe should consist of the following:\n",
    "- All numeric, interval, and ordinal type columns from the original dataset.\n",
    "- Binary categorical features (all numerically-encoded).\n",
    "- Engineered features from other multi-level categorical features and mixed features.\n",
    "\n",
    "Make sure that for any new columns that you have engineered, that you've excluded the original columns from the final dataset. Otherwise, their values will interfere with the analysis later on the project. For example, you should not keep \"PRAEGENDE_JUGENDJAHRE\", since its values won't be useful for the algorithm: only the values derived from it in the engineered features you created should be retained. As a reminder, your data should only be from **the subset with few or no missing values**."
   ]
  },
  {
   "cell_type": "code",
   "execution_count": 49,
   "metadata": {},
   "outputs": [
    {
     "data": {
      "image/png": "[encoded data removed]",
      "text/plain": [
       "<matplotlib.figure.Figure at 0x7f7d34147518>"
      ]
     },
     "metadata": {},
     "output_type": "display_data"
    }
   ],
   "source": [
    "null_list = azdias_encode.isnull().sum()\n",
    "null_per = null_list / len(azdias) * 100\n",
    "plt.figure(figsize=(10,5))\n",
    "plt.title('Ratio of Missing Data in Each Column')\n",
    "plt.hist(null_per)\n",
    "plt.xlabel('Percentage of Missing Data')\n",
    "plt.ylabel('Count')\n",
    "plt.show()"
   ]
  },
  {
   "cell_type": "markdown",
   "metadata": {},
   "source": [
    "### Step 1.3: Create a Cleaning Function\n",
    "\n",
    "Even though you've finished cleaning up the general population demographics data, it's important to look ahead to the future and realize that you'll need to perform the same cleaning steps on the customer demographics data. In this substep, complete the function below to execute the main feature selection, encoding, and re-engineering steps you performed above. Then, when it comes to looking at the customer data in Step 3, you can just run this function on that DataFrame to get the trimmed dataset in a single step."
   ]
  },
  {
   "cell_type": "code",
   "execution_count": 51,
   "metadata": {},
   "outputs": [],
   "source": [
    "def clean_data(df):\n",
    "    \n",
    "    \n",
    "\n",
    "    feat_info = pd.read_csv('AZDIAS_Feature_Summary.csv', delimiter = ';')\n",
    "    for i, column in enumerate(df.columns):\n",
    "        str_n = feat_info['missing_or_unknown'].iloc[i]\n",
    "        if i in [57, 58, 59]:\n",
    "            list_n = str_n[1: -1].split(',')\n",
    "        else:\n",
    "            list_n = ast.literal_eval(str_n)\n",
    "        for num in list_n:\n",
    "            df[column].replace(num, np.NaN, inplace = True)\n",
    "    \n",
    "    \n",
    "    drop_columns = ['TITEL_KZ', 'AGER_TYP', 'GEBURTSJAHR', 'ALTER_HH', 'KK_KUNDENTYP', 'KBA05_BAUMAX']\n",
    "    df.drop(drop_columns, axis = 1, inplace = True)\n",
    "    \n",
    "    df['Missing_num'] = df.isnull().sum(axis=1)\n",
    "    df_1 = df[df['Missing_num'] <= 5]\n",
    "    df_1 = df_1.drop('Missing_num', axis = 1)\n",
    "    \n",
    "    \n",
    "    df_1 = pd.get_dummies(df_1, columns = ['CJT_GESAMTTYP','FINANZTYP', 'LP_FAMILIE_GROB', 'LP_STATUS_GROB', \n",
    "                                               'NATIONALITAET_KZ', 'SHOPPER_TYP', 'ZABEOTYP', 'OST_WEST_KZ'])\n",
    "    df = df_1.drop(['GFK_URLAUBERTYP', 'LP_FAMILIE_FEIN', 'LP_STATUS_FEIN', 'GEBAEUDETYP', 'CAMEO_DEUG_2015', 'CAMEO_DEU_2015'], axis = 1)\n",
    "    df = new_feature_1(df)\n",
    "    df = pd.get_dummies(df, columns = ['Decade', 'Movement', 'Nation'])\n",
    "    df = df.drop('PRAEGENDE_JUGENDJAHRE', axis = 1)\n",
    "    df = new_feature_2(df)\n",
    "    df = pd.get_dummies(df, columns = ['Wealth', 'Life_Stage'])\n",
    "    df = df.drop('CAMEO_INTL_2015', axis = 1)\n",
    "    df.drop(['LP_LEBENSPHASE_FEIN', 'LP_LEBENSPHASE_GROB', 'WOHNLAGE', 'PLZ8_BAUMAX'], axis = 1, inplace = True)\n",
    "    \n",
    "    \n",
    "    return df"
   ]
  },
  {
   "cell_type": "markdown",
   "metadata": {},
   "source": [
    "## Step 2: Feature Transformation\n",
    "\n",
    "### Step 2.1: Apply Feature Scaling\n",
    "\n",
    "Before we apply dimensionality reduction techniques to the data, we need to perform feature scaling so that the principal component vectors are not influenced by the natural differences in scale for features. Starting from this part of the project, you'll want to keep an eye on the [API reference page for sklearn](http://scikit-learn.org/stable/modules/classes.html) to help you navigate to all of the classes and functions that you'll need. In this substep, you'll need to check the following:\n",
    "\n",
    "- sklearn requires that data not have missing values in order for its estimators to work properly. So, before applying the scaler to your data, make sure that you've cleaned the DataFrame of the remaining missing values. This can be as simple as just removing all data points with missing data, or applying an [Imputer](http://scikit-learn.org/stable/modules/generated/sklearn.preprocessing.Imputer.html) to replace all missing values. You might also try a more complicated procedure where you temporarily remove missing values in order to compute the scaling parameters before re-introducing those missing values and applying imputation. Think about how much missing data you have and what possible effects each approach might have on your analysis, and justify your decision in the discussion section below.\n",
    "- For the actual scaling function, a [StandardScaler](http://scikit-learn.org/stable/modules/generated/sklearn.preprocessing.StandardScaler.html) instance is suggested, scaling each feature to mean 0 and standard deviation 1.\n",
    "- For these classes, you can make use of the `.fit_transform()` method to both fit a procedure to the data as well as apply the transformation to the data at the same time. Don't forget to keep the fit sklearn objects handy, since you'll be applying them to the customer demographics data towards the end of the project."
   ]
  },
  {
   "cell_type": "code",
   "execution_count": 52,
   "metadata": {},
   "outputs": [],
   "source": [
    "# Apply feature scaling to the general population demographics data.\n",
    "\n",
    "df = azdias_encode\n"
   ]
  },
  {
   "cell_type": "code",
   "execution_count": 53,
   "metadata": {},
   "outputs": [
    {
     "data": {
      "text/html": [
       "<div>\n",
       "<style>\n",
       "    .dataframe thead tr:only-child th {\n",
       "        text-align: right;\n",
       "    }\n",
       "\n",
       "    .dataframe thead th {\n",
       "        text-align: left;\n",
       "    }\n",
       "\n",
       "    .dataframe tbody tr th {\n",
       "        vertical-align: top;\n",
       "    }\n",
       "</style>\n",
       "<table border=\"1\" class=\"dataframe\">\n",
       "  <thead>\n",
       "    <tr style=\"text-align: right;\">\n",
       "      <th></th>\n",
       "      <th>ALTERSKATEGORIE_GROB</th>\n",
       "      <th>ANREDE_KZ</th>\n",
       "      <th>FINANZ_MINIMALIST</th>\n",
       "      <th>FINANZ_SPARER</th>\n",
       "      <th>FINANZ_VORSORGER</th>\n",
       "      <th>FINANZ_ANLEGER</th>\n",
       "      <th>FINANZ_UNAUFFAELLIGER</th>\n",
       "      <th>FINANZ_HAUSBAUER</th>\n",
       "      <th>GREEN_AVANTGARDE</th>\n",
       "      <th>HEALTH_TYP</th>\n",
       "      <th>...</th>\n",
       "      <th>WOHNLAGE_3.0</th>\n",
       "      <th>WOHNLAGE_4.0</th>\n",
       "      <th>WOHNLAGE_5.0</th>\n",
       "      <th>WOHNLAGE_7.0</th>\n",
       "      <th>WOHNLAGE_8.0</th>\n",
       "      <th>PLZ8_BAUMAX_1.0</th>\n",
       "      <th>PLZ8_BAUMAX_2.0</th>\n",
       "      <th>PLZ8_BAUMAX_3.0</th>\n",
       "      <th>PLZ8_BAUMAX_4.0</th>\n",
       "      <th>PLZ8_BAUMAX_5.0</th>\n",
       "    </tr>\n",
       "  </thead>\n",
       "  <tbody>\n",
       "    <tr>\n",
       "      <th>count</th>\n",
       "      <td>718093.000000</td>\n",
       "      <td>719624.000000</td>\n",
       "      <td>719624.000000</td>\n",
       "      <td>719624.000000</td>\n",
       "      <td>719624.000000</td>\n",
       "      <td>719624.00000</td>\n",
       "      <td>719624.000000</td>\n",
       "      <td>719624.000000</td>\n",
       "      <td>719624.000000</td>\n",
       "      <td>704814.000000</td>\n",
       "      <td>...</td>\n",
       "      <td>719624.000000</td>\n",
       "      <td>719624.000000</td>\n",
       "      <td>719624.000000</td>\n",
       "      <td>719624.000000</td>\n",
       "      <td>719624.000000</td>\n",
       "      <td>719624.000000</td>\n",
       "      <td>719624.000000</td>\n",
       "      <td>719624.000000</td>\n",
       "      <td>719624.000000</td>\n",
       "      <td>719624.000000</td>\n",
       "    </tr>\n",
       "    <tr>\n",
       "      <th>mean</th>\n",
       "      <td>2.793277</td>\n",
       "      <td>1.516453</td>\n",
       "      <td>3.065229</td>\n",
       "      <td>2.669370</td>\n",
       "      <td>3.458492</td>\n",
       "      <td>2.79274</td>\n",
       "      <td>2.562273</td>\n",
       "      <td>3.165282</td>\n",
       "      <td>0.225177</td>\n",
       "      <td>2.213222</td>\n",
       "      <td>...</td>\n",
       "      <td>0.319946</td>\n",
       "      <td>0.172990</td>\n",
       "      <td>0.092496</td>\n",
       "      <td>0.218315</td>\n",
       "      <td>0.012309</td>\n",
       "      <td>0.638186</td>\n",
       "      <td>0.092333</td>\n",
       "      <td>0.067182</td>\n",
       "      <td>0.074817</td>\n",
       "      <td>0.127482</td>\n",
       "    </tr>\n",
       "    <tr>\n",
       "      <th>std</th>\n",
       "      <td>1.031134</td>\n",
       "      <td>0.499730</td>\n",
       "      <td>1.361379</td>\n",
       "      <td>1.474188</td>\n",
       "      <td>1.387388</td>\n",
       "      <td>1.45717</td>\n",
       "      <td>1.375376</td>\n",
       "      <td>1.377705</td>\n",
       "      <td>0.417699</td>\n",
       "      <td>0.755041</td>\n",
       "      <td>...</td>\n",
       "      <td>0.466456</td>\n",
       "      <td>0.378239</td>\n",
       "      <td>0.289724</td>\n",
       "      <td>0.413103</td>\n",
       "      <td>0.110262</td>\n",
       "      <td>0.480526</td>\n",
       "      <td>0.289496</td>\n",
       "      <td>0.250338</td>\n",
       "      <td>0.263096</td>\n",
       "      <td>0.333512</td>\n",
       "    </tr>\n",
       "    <tr>\n",
       "      <th>min</th>\n",
       "      <td>1.000000</td>\n",
       "      <td>1.000000</td>\n",
       "      <td>1.000000</td>\n",
       "      <td>1.000000</td>\n",
       "      <td>1.000000</td>\n",
       "      <td>1.00000</td>\n",
       "      <td>1.000000</td>\n",
       "      <td>1.000000</td>\n",
       "      <td>0.000000</td>\n",
       "      <td>1.000000</td>\n",
       "      <td>...</td>\n",
       "      <td>0.000000</td>\n",
       "      <td>0.000000</td>\n",
       "      <td>0.000000</td>\n",
       "      <td>0.000000</td>\n",
       "      <td>0.000000</td>\n",
       "      <td>0.000000</td>\n",
       "      <td>0.000000</td>\n",
       "      <td>0.000000</td>\n",
       "      <td>0.000000</td>\n",
       "      <td>0.000000</td>\n",
       "    </tr>\n",
       "    <tr>\n",
       "      <th>25%</th>\n",
       "      <td>2.000000</td>\n",
       "      <td>1.000000</td>\n",
       "      <td>2.000000</td>\n",
       "      <td>1.000000</td>\n",
       "      <td>2.000000</td>\n",
       "      <td>1.00000</td>\n",
       "      <td>1.000000</td>\n",
       "      <td>2.000000</td>\n",
       "      <td>0.000000</td>\n",
       "      <td>2.000000</td>\n",
       "      <td>...</td>\n",
       "      <td>0.000000</td>\n",
       "      <td>0.000000</td>\n",
       "      <td>0.000000</td>\n",
       "      <td>0.000000</td>\n",
       "      <td>0.000000</td>\n",
       "      <td>0.000000</td>\n",
       "      <td>0.000000</td>\n",
       "      <td>0.000000</td>\n",
       "      <td>0.000000</td>\n",
       "      <td>0.000000</td>\n",
       "    </tr>\n",
       "    <tr>\n",
       "      <th>50%</th>\n",
       "      <td>3.000000</td>\n",
       "      <td>2.000000</td>\n",
       "      <td>3.000000</td>\n",
       "      <td>2.000000</td>\n",
       "      <td>4.000000</td>\n",
       "      <td>3.00000</td>\n",
       "      <td>2.000000</td>\n",
       "      <td>3.000000</td>\n",
       "      <td>0.000000</td>\n",
       "      <td>2.000000</td>\n",
       "      <td>...</td>\n",
       "      <td>0.000000</td>\n",
       "      <td>0.000000</td>\n",
       "      <td>0.000000</td>\n",
       "      <td>0.000000</td>\n",
       "      <td>0.000000</td>\n",
       "      <td>1.000000</td>\n",
       "      <td>0.000000</td>\n",
       "      <td>0.000000</td>\n",
       "      <td>0.000000</td>\n",
       "      <td>0.000000</td>\n",
       "    </tr>\n",
       "    <tr>\n",
       "      <th>75%</th>\n",
       "      <td>4.000000</td>\n",
       "      <td>2.000000</td>\n",
       "      <td>4.000000</td>\n",
       "      <td>4.000000</td>\n",
       "      <td>5.000000</td>\n",
       "      <td>4.00000</td>\n",
       "      <td>4.000000</td>\n",
       "      <td>4.000000</td>\n",
       "      <td>0.000000</td>\n",
       "      <td>3.000000</td>\n",
       "      <td>...</td>\n",
       "      <td>1.000000</td>\n",
       "      <td>0.000000</td>\n",
       "      <td>0.000000</td>\n",
       "      <td>0.000000</td>\n",
       "      <td>0.000000</td>\n",
       "      <td>1.000000</td>\n",
       "      <td>0.000000</td>\n",
       "      <td>0.000000</td>\n",
       "      <td>0.000000</td>\n",
       "      <td>0.000000</td>\n",
       "    </tr>\n",
       "    <tr>\n",
       "      <th>max</th>\n",
       "      <td>4.000000</td>\n",
       "      <td>2.000000</td>\n",
       "      <td>5.000000</td>\n",
       "      <td>5.000000</td>\n",
       "      <td>5.000000</td>\n",
       "      <td>5.00000</td>\n",
       "      <td>5.000000</td>\n",
       "      <td>5.000000</td>\n",
       "      <td>1.000000</td>\n",
       "      <td>3.000000</td>\n",
       "      <td>...</td>\n",
       "      <td>1.000000</td>\n",
       "      <td>1.000000</td>\n",
       "      <td>1.000000</td>\n",
       "      <td>1.000000</td>\n",
       "      <td>1.000000</td>\n",
       "      <td>1.000000</td>\n",
       "      <td>1.000000</td>\n",
       "      <td>1.000000</td>\n",
       "      <td>1.000000</td>\n",
       "      <td>1.000000</td>\n",
       "    </tr>\n",
       "  </tbody>\n",
       "</table>\n",
       "<p>8 rows × 182 columns</p>\n",
       "</div>"
      ],
      "text/plain": [
       "       ALTERSKATEGORIE_GROB      ANREDE_KZ  FINANZ_MINIMALIST  FINANZ_SPARER  \\\n",
       "count         718093.000000  719624.000000      719624.000000  719624.000000   \n",
       "mean               2.793277       1.516453           3.065229       2.669370   \n",
       "std                1.031134       0.499730           1.361379       1.474188   \n",
       "min                1.000000       1.000000           1.000000       1.000000   \n",
       "25%                2.000000       1.000000           2.000000       1.000000   \n",
       "50%                3.000000       2.000000           3.000000       2.000000   \n",
       "75%                4.000000       2.000000           4.000000       4.000000   \n",
       "max                4.000000       2.000000           5.000000       5.000000   \n",
       "\n",
       "       FINANZ_VORSORGER  FINANZ_ANLEGER  FINANZ_UNAUFFAELLIGER  \\\n",
       "count     719624.000000    719624.00000          719624.000000   \n",
       "mean           3.458492         2.79274               2.562273   \n",
       "std            1.387388         1.45717               1.375376   \n",
       "min            1.000000         1.00000               1.000000   \n",
       "25%            2.000000         1.00000               1.000000   \n",
       "50%            4.000000         3.00000               2.000000   \n",
       "75%            5.000000         4.00000               4.000000   \n",
       "max            5.000000         5.00000               5.000000   \n",
       "\n",
       "       FINANZ_HAUSBAUER  GREEN_AVANTGARDE     HEALTH_TYP       ...         \\\n",
       "count     719624.000000     719624.000000  704814.000000       ...          \n",
       "mean           3.165282          0.225177       2.213222       ...          \n",
       "std            1.377705          0.417699       0.755041       ...          \n",
       "min            1.000000          0.000000       1.000000       ...          \n",
       "25%            2.000000          0.000000       2.000000       ...          \n",
       "50%            3.000000          0.000000       2.000000       ...          \n",
       "75%            4.000000          0.000000       3.000000       ...          \n",
       "max            5.000000          1.000000       3.000000       ...          \n",
       "\n",
       "        WOHNLAGE_3.0   WOHNLAGE_4.0   WOHNLAGE_5.0   WOHNLAGE_7.0  \\\n",
       "count  719624.000000  719624.000000  719624.000000  719624.000000   \n",
       "mean        0.319946       0.172990       0.092496       0.218315   \n",
       "std         0.466456       0.378239       0.289724       0.413103   \n",
       "min         0.000000       0.000000       0.000000       0.000000   \n",
       "25%         0.000000       0.000000       0.000000       0.000000   \n",
       "50%         0.000000       0.000000       0.000000       0.000000   \n",
       "75%         1.000000       0.000000       0.000000       0.000000   \n",
       "max         1.000000       1.000000       1.000000       1.000000   \n",
       "\n",
       "        WOHNLAGE_8.0  PLZ8_BAUMAX_1.0  PLZ8_BAUMAX_2.0  PLZ8_BAUMAX_3.0  \\\n",
       "count  719624.000000    719624.000000    719624.000000    719624.000000   \n",
       "mean        0.012309         0.638186         0.092333         0.067182   \n",
       "std         0.110262         0.480526         0.289496         0.250338   \n",
       "min         0.000000         0.000000         0.000000         0.000000   \n",
       "25%         0.000000         0.000000         0.000000         0.000000   \n",
       "50%         0.000000         1.000000         0.000000         0.000000   \n",
       "75%         0.000000         1.000000         0.000000         0.000000   \n",
       "max         1.000000         1.000000         1.000000         1.000000   \n",
       "\n",
       "       PLZ8_BAUMAX_4.0  PLZ8_BAUMAX_5.0  \n",
       "count    719624.000000    719624.000000  \n",
       "mean          0.074817         0.127482  \n",
       "std           0.263096         0.333512  \n",
       "min           0.000000         0.000000  \n",
       "25%           0.000000         0.000000  \n",
       "50%           0.000000         0.000000  \n",
       "75%           0.000000         0.000000  \n",
       "max           1.000000         1.000000  \n",
       "\n",
       "[8 rows x 182 columns]"
      ]
     },
     "execution_count": 53,
     "metadata": {},
     "output_type": "execute_result"
    }
   ],
   "source": [
    "df.describe()\n"
   ]
  },
  {
   "cell_type": "code",
   "execution_count": 54,
   "metadata": {},
   "outputs": [],
   "source": [
    "from sklearn.preprocessing import Imputer\n",
    "from sklearn.preprocessing import StandardScaler\n",
    "imp = Imputer(missing_values=float(\"NaN\"), strategy=\"mean\", axis=1, copy = False)\n",
    "scale = StandardScaler()"
   ]
  },
  {
   "cell_type": "code",
   "execution_count": 55,
   "metadata": {},
   "outputs": [],
   "source": [
    "df[df.columns] = scale.fit_transform(imp.fit_transform(df))\n"
   ]
  },
  {
   "cell_type": "code",
   "execution_count": 56,
   "metadata": {},
   "outputs": [
    {
     "data": {
      "text/plain": [
       "0"
      ]
     },
     "execution_count": 56,
     "metadata": {},
     "output_type": "execute_result"
    }
   ],
   "source": [
    "df.isnull().sum().sum()\n"
   ]
  },
  {
   "cell_type": "markdown",
   "metadata": {},
   "source": [
    "### Discussion 2.1: Apply Feature Scaling\n",
    "\n",
    "The missing values in rows were taken care of replacing them with the mean value, therefore I was ready to apply the feature scaling step, using StandardScale to normalize the data. "
   ]
  },
  {
   "cell_type": "markdown",
   "metadata": {},
   "source": [
    "### Step 2.2: Perform Dimensionality Reduction\n",
    "\n",
    "On your scaled data, you are now ready to apply dimensionality reduction techniques.\n",
    "\n",
    "- Use sklearn's [PCA](http://scikit-learn.org/stable/modules/generated/sklearn.decomposition.PCA.html) class to apply principal component analysis on the data, thus finding the vectors of maximal variance in the data. To start, you should not set any parameters (so all components are computed) or set a number of components that is at least half the number of features (so there's enough features to see the general trend in variability).\n",
    "- Check out the ratio of variance explained by each principal component as well as the cumulative variance explained. Try plotting the cumulative or sequential values using matplotlib's [`plot()`](https://matplotlib.org/api/_as_gen/matplotlib.pyplot.plot.html) function. Based on what you find, select a value for the number of transformed features you'll retain for the clustering part of the project.\n",
    "- Once you've made a choice for the number of components to keep, make sure you re-fit a PCA instance to perform the decided-on transformation."
   ]
  },
  {
   "cell_type": "code",
   "execution_count": 57,
   "metadata": {},
   "outputs": [],
   "source": [
    "# Apply PCA to the data.\n",
    "from sklearn.decomposition import PCA\n",
    "pca = PCA()\n",
    "df_pca = pca.fit_transform(df)\n"
   ]
  },
  {
   "cell_type": "code",
   "execution_count": 60,
   "metadata": {},
   "outputs": [],
   "source": [
    "# Investigate the variance accounted for by each principal component.\n",
    "def scree_plot(pca):\n",
    "    \n",
    "    num_components = len(pca.explained_variance_ratio_)\n",
    "    ind = np.arange(num_components)\n",
    "    vals = pca.explained_variance_ratio_\n",
    " \n",
    "    plt.figure(figsize=(10, 6))\n",
    "    ax = plt.subplot(111)\n",
    "    cumvals = np.cumsum(vals)\n",
    "    ax.bar(ind, vals)\n",
    "    ax.plot(ind, cumvals)\n",
    "    \n",
    "    ax.xaxis.set_tick_params(width=0)\n",
    "    ax.yaxis.set_tick_params(width=2, length=10)\n",
    " \n",
    "    ax.set_xlabel(\"Principal Component\")\n",
    "    ax.set_ylabel(\"Variance(%)\")\n",
    "    plt.title('Variance')\n"
   ]
  },
  {
   "cell_type": "code",
   "execution_count": 61,
   "metadata": {},
   "outputs": [
    {
     "data": {
      "image/png": "[encoded data removed]",
      "text/plain": [
       "<matplotlib.figure.Figure at 0x7f7d237f2c88>"
      ]
     },
     "metadata": {},
     "output_type": "display_data"
    }
   ],
   "source": [
    "scree_plot(pca)\n"
   ]
  },
  {
   "cell_type": "code",
   "execution_count": 62,
   "metadata": {},
   "outputs": [
    {
     "data": {
      "image/png": "[encoded data removed]",
      "text/plain": [
       "<matplotlib.figure.Figure at 0x7f7d23783358>"
      ]
     },
     "metadata": {},
     "output_type": "display_data"
    }
   ],
   "source": [
    "# Re-apply PCA to the data while selecting for number of components to retain.\n",
    "pca = PCA(100)\n",
    "df_pca = pca.fit_transform(df)\n",
    "scree_plot(pca)\n"
   ]
  },
  {
   "cell_type": "markdown",
   "metadata": {},
   "source": [
    "### Discussion 2.2: Perform Dimensionality Reduction\n",
    "\n",
    "From the plots above we can see the variance started to level off around 80 feaures, and did not see to make sharp increases in variance after that, therefore I chose the 100 features to redo the PCA on. "
   ]
  },
  {
   "cell_type": "markdown",
   "metadata": {},
   "source": [
    "### Step 2.3: Interpret Principal Components\n",
    "\n",
    "Now that we have our transformed principal components, it's a nice idea to check out the weight of each variable on the first few components to see if they can be interpreted in some fashion.\n",
    "\n",
    "As a reminder, each principal component is a unit vector that points in the direction of highest variance (after accounting for the variance captured by earlier principal components). The further a weight is from zero, the more the principal component is in the direction of the corresponding feature. If two features have large weights of the same sign (both positive or both negative), then increases in one tend expect to be associated with increases in the other. To contrast, features with different signs can be expected to show a negative correlation: increases in one variable should result in a decrease in the other.\n",
    "\n",
    "- To investigate the features, you should map each weight to their corresponding feature name, then sort the features according to weight. The most interesting features for each principal component, then, will be those at the beginning and end of the sorted list. Use the data dictionary document to help you understand these most prominent features, their relationships, and what a positive or negative value on the principal component might indicate.\n",
    "- You should investigate and interpret feature associations from the first three principal components in this substep. To help facilitate this, you should write a function that you can call at any time to print the sorted list of feature weights, for the *i*-th principal component. This might come in handy in the next step of the project, when you interpret the tendencies of the discovered clusters."
   ]
  },
  {
   "cell_type": "code",
   "execution_count": 63,
   "metadata": {},
   "outputs": [],
   "source": [
    "import operator\n",
    "\n",
    "def pca_weights(pca, i):\n",
    "    weight_map = {}\n",
    "    for counter, feature in enumerate(df.columns):\n",
    "        weight_map[feature] = pca.components_[i][counter]\n",
    "    \n",
    "    sorted_weights = sorted(weight_map.items(), key=operator.itemgetter(1), reverse=True)\n",
    "    \n",
    "    return sorted_weights"
   ]
  },
  {
   "cell_type": "code",
   "execution_count": 64,
   "metadata": {},
   "outputs": [
    {
     "data": {
      "text/plain": [
       "[('FINANZ_VORSORGER', 0.20611752222403712),\n",
       " ('ZABEOTYP_3', 0.19583231979860055),\n",
       " ('ALTERSKATEGORIE_GROB', 0.18686022507612432),\n",
       " ('SEMIO_ERL', 0.17181900482180498),\n",
       " ('LP_LEBENSPHASE_GROB_2.0', 0.15650005905073727),\n",
       " ('RETOURTYP_BK_S', 0.15400613995843887),\n",
       " ('SEMIO_LUST', 0.14681759148379467),\n",
       " ('LP_LEBENSPHASE_FEIN_6.0', 0.11191209385309575),\n",
       " ('Decade_60s', 0.10587446576823294),\n",
       " ('FINANZ_HAUSBAUER', 0.099911638716371015),\n",
       " ('CJT_GESAMTTYP_2.0', 0.096831781349936877),\n",
       " ('Decade_50s', 0.095755139731535655),\n",
       " ('FINANZTYP_5', 0.091484274773502738),\n",
       " ('PLZ8_ANTG3', 0.082841025571337018),\n",
       " ('PLZ8_ANTG4', 0.078857689511470028),\n",
       " ('SEMIO_KRIT', 0.078032242047680292),\n",
       " ('FINANZTYP_2', 0.075494737371456636),\n",
       " ('EWDICHTE', 0.072258963446598393),\n",
       " ('ORTSGR_KLS9', 0.071960787113985764),\n",
       " ('LP_LEBENSPHASE_FEIN_8.0', 0.070275960300130946),\n",
       " ('SHOPPER_TYP_3.0', 0.069008196136226205),\n",
       " ('LP_LEBENSPHASE_FEIN_5.0', 0.068391188530834646),\n",
       " ('Decade_70s', 0.068329602329970304),\n",
       " ('FINANZTYP_6', 0.065854664434719115),\n",
       " ('CJT_GESAMTTYP_1.0', 0.065314043095181101),\n",
       " ('FINANZ_MINIMALIST', 0.065020828244948203),\n",
       " ('W_KEIT_KIND_HH', 0.062230486523939803),\n",
       " ('SEMIO_KAEM', 0.061538893797014799),\n",
       " ('KBA05_ANTG4', 0.061184503647703434),\n",
       " ('Decade_40s', 0.060077343374090694),\n",
       " ('LP_FAMILIE_GROB_1.0', 0.058607726176130567),\n",
       " ('Wealth_Poorer', 0.057430768817992847),\n",
       " ('PLZ8_ANTG2', 0.056468880745424055),\n",
       " ('HH_EINKOMMEN_SCORE', 0.05403129552681394),\n",
       " ('ANZ_HAUSHALTE_AKTIV', 0.053984057037755412),\n",
       " ('NATIONALITAET_KZ_1.0', 0.053701847608587379),\n",
       " ('LP_LEBENSPHASE_GROB_10.0', 0.053044094948144611),\n",
       " ('LP_LEBENSPHASE_FEIN_15.0', 0.050776929613385272),\n",
       " ('WOHNDAUER_2008', 0.048237394921901197),\n",
       " ('ARBEIT', 0.046160937861917918),\n",
       " ('LP_LEBENSPHASE_FEIN_31.0', 0.04608994434185499),\n",
       " ('RELAT_AB', 0.04593269316856851),\n",
       " ('PLZ8_BAUMAX_5.0', 0.044497501465764547),\n",
       " ('KBA05_ANTG3', 0.043977572085963826),\n",
       " ('ANREDE_KZ', 0.04271188563374706),\n",
       " ('LP_STATUS_GROB_1.0', 0.040434008657389046),\n",
       " ('PLZ8_BAUMAX_4.0', 0.037597316672555336),\n",
       " ('Life_Stage_Couples & Singles', 0.034039792709973711),\n",
       " ('Life_Stage_Elders In Retirement', 0.032863624764089612),\n",
       " ('LP_LEBENSPHASE_FEIN_12.0', 0.031789003777206497),\n",
       " ('LP_LEBENSPHASE_FEIN_16.0', 0.03140309226706009),\n",
       " ('PLZ8_BAUMAX_3.0', 0.031306943317242666),\n",
       " ('LP_LEBENSPHASE_GROB_4.0', 0.031286580497232416),\n",
       " ('LP_FAMILIE_GROB_2.0', 0.031056346115072273),\n",
       " ('LP_LEBENSPHASE_FEIN_7.0', 0.030434066133228053),\n",
       " ('Nation_E+W', 0.030260648181284305),\n",
       " ('SEMIO_DOM', 0.030070961252988995),\n",
       " ('OST_WEST_KZ_O', 0.029595238835877249),\n",
       " ('LP_LEBENSPHASE_FEIN_32.0', 0.026544644166891354),\n",
       " ('LP_LEBENSPHASE_FEIN_13.0', 0.02617669735921254),\n",
       " ('ZABEOTYP_6', 0.025510266184888761),\n",
       " ('WOHNLAGE_4.0', 0.022755453500342974),\n",
       " ('WOHNLAGE_3.0', 0.020945881040673367),\n",
       " ('PLZ8_BAUMAX_2.0', 0.020799023488663804),\n",
       " ('LP_LEBENSPHASE_FEIN_40.0', 0.017071133069194524),\n",
       " ('LP_LEBENSPHASE_FEIN_20.0', 0.01682275037569899),\n",
       " ('Movement_MainStream', 0.016337446310265343),\n",
       " ('ANZ_HH_TITEL', 0.01606974860361772),\n",
       " ('Wealth_Lower Class', 0.016000533800110666),\n",
       " ('WOHNLAGE_5.0', 0.014428968505414882),\n",
       " ('LP_LEBENSPHASE_FEIN_38.0', 0.013249684856628785),\n",
       " ('LP_LEBENSPHASE_GROB_12.0', 0.01134569226647234),\n",
       " ('LP_LEBENSPHASE_GROB_3.0', 0.011210858192783406),\n",
       " ('PLZ8_HHZ', 0.010852796600907936),\n",
       " ('LP_LEBENSPHASE_FEIN_19.0', 0.010792237390278311),\n",
       " ('LP_LEBENSPHASE_GROB_5.0', 0.010641708745605227),\n",
       " ('LP_LEBENSPHASE_FEIN_9.0', 0.0094791331738835645),\n",
       " ('LP_LEBENSPHASE_FEIN_17.0', 0.0070588480309978557),\n",
       " ('LP_LEBENSPHASE_FEIN_36.0', 0.006739452307978659),\n",
       " ('VERS_TYP', 0.005484283408961621),\n",
       " ('SHOPPER_TYP_2.0', 0.0054025645276099847),\n",
       " ('ANZ_TITEL', 0.0045379896564838717),\n",
       " ('LP_LEBENSPHASE_FEIN_11.0', 0.0036818151728951103),\n",
       " ('WOHNLAGE_2.0', 0.002033447497014779),\n",
       " ('WOHNLAGE_1.0', 0.0014935197496703406),\n",
       " ('WOHNLAGE_0.0', -0.00059945272508637776),\n",
       " ('SOHO_KZ', -0.002107670559184737),\n",
       " ('LP_LEBENSPHASE_FEIN_39.0', -0.0037514891744115163),\n",
       " ('Wealth_Comfortable', -0.0040567634413178569),\n",
       " ('KBA05_ANTG2', -0.0043334433160600499),\n",
       " ('LP_STATUS_GROB_3.0', -0.0064569898192599661),\n",
       " ('LP_LEBENSPHASE_FEIN_37.0', -0.0070204538709145083),\n",
       " ('Nation_E', -0.0099559901886544129),\n",
       " ('LP_STATUS_GROB_5.0', -0.01042932648210039),\n",
       " ('LP_STATUS_GROB_2.0', -0.012848797511292772),\n",
       " ('LP_LEBENSPHASE_FEIN_26.0', -0.014966320110599974),\n",
       " ('REGIOTYP', -0.01545036529924775),\n",
       " ('HEALTH_TYP', -0.015581526151930088),\n",
       " ('Life_Stage_Older Families &  Mature Couples', -0.015948360168070067),\n",
       " ('LP_LEBENSPHASE_FEIN_23.0', -0.019835386479173399),\n",
       " ('WOHNLAGE_8.0', -0.022467307265231069),\n",
       " ('LP_LEBENSPHASE_FEIN_21.0', -0.022916423884051074),\n",
       " ('SHOPPER_TYP_1.0', -0.024015916105395323),\n",
       " ('LP_LEBENSPHASE_FEIN_24.0', -0.024287121223190263),\n",
       " ('LP_STATUS_GROB_4.0', -0.024702221000823893),\n",
       " ('LP_LEBENSPHASE_FEIN_18.0', -0.024929469210337302),\n",
       " ('Movement_Avantgarde', -0.025034776604606762),\n",
       " ('GREEN_AVANTGARDE', -0.025034776604606766),\n",
       " ('LP_LEBENSPHASE_FEIN_28.0', -0.025274003707431096),\n",
       " ('LP_LEBENSPHASE_FEIN_22.0', -0.026215826352814098),\n",
       " ('LP_LEBENSPHASE_FEIN_2.0', -0.026904836462257994),\n",
       " ('KKK', -0.027514909939061055),\n",
       " ('Life_Stage_Families With School Age Children', -0.028400833158782078),\n",
       " ('SEMIO_VERT', -0.029477976554539764),\n",
       " ('OST_WEST_KZ_W', -0.029595238835877238),\n",
       " ('LP_LEBENSPHASE_FEIN_4.0', -0.030645540915129024),\n",
       " ('CJT_GESAMTTYP_5.0', -0.030772854551587393),\n",
       " ('LP_LEBENSPHASE_FEIN_14.0', -0.031012778910594549),\n",
       " ('KBA13_ANZAHL_PKW', -0.031343320012210581),\n",
       " ('LP_LEBENSPHASE_FEIN_33.0', -0.031847079676239239),\n",
       " ('LP_LEBENSPHASE_FEIN_27.0', -0.032444209985359879),\n",
       " ('Wealth_Wealthy', -0.032728240769889311),\n",
       " ('ZABEOTYP_2', -0.033342539342351124),\n",
       " ('CJT_GESAMTTYP_3.0', -0.034228243111842638),\n",
       " ('MIN_GEBAEUDEJAHR', -0.034730234349835985),\n",
       " ('Life_Stage_Young Couples With Children', -0.034737496328380003),\n",
       " ('NATIONALITAET_KZ_2.0', -0.036638347927579987),\n",
       " ('CJT_GESAMTTYP_6.0', -0.036744596486912216),\n",
       " ('Nation_W', -0.036987288246920325),\n",
       " ('LP_LEBENSPHASE_FEIN_25.0', -0.037092111225134672),\n",
       " ('GEBAEUDETYP_RASTER', -0.03790350167639496),\n",
       " ('LP_FAMILIE_GROB_3.0', -0.03980715375803047),\n",
       " ('LP_LEBENSPHASE_GROB_6.0', -0.03980715375803047),\n",
       " ('NATIONALITAET_KZ_3.0', -0.042430371782513333),\n",
       " ('LP_LEBENSPHASE_GROB_7.0', -0.043190895723961939),\n",
       " ('LP_LEBENSPHASE_GROB_8.0', -0.043946111870935778),\n",
       " ('LP_FAMILIE_GROB_5.0', -0.045718685719883065),\n",
       " ('BALLRAUM', -0.045901802135155788),\n",
       " ('LP_LEBENSPHASE_FEIN_10.0', -0.047048925315082708),\n",
       " ('LP_LEBENSPHASE_FEIN_35.0', -0.047049648019525277),\n",
       " ('Wealth_Prosperous', -0.0475847045917214),\n",
       " ('LP_LEBENSPHASE_FEIN_29.0', -0.048397510879959173),\n",
       " ('LP_LEBENSPHASE_FEIN_34.0', -0.049347633405926676),\n",
       " ('WOHNLAGE_7.0', -0.051076942361124755),\n",
       " ('CJT_GESAMTTYP_4.0', -0.052774142268788113),\n",
       " ('SHOPPER_TYP_0.0', -0.053371555441202694),\n",
       " ('LP_LEBENSPHASE_FEIN_3.0', -0.056228065116975437),\n",
       " ('Decade_80s', -0.058563763089843859),\n",
       " ('KONSUMNAEHE', -0.05871577468533952),\n",
       " ('INNENSTADT', -0.059282250445686344),\n",
       " ('LP_FAMILIE_GROB_4.0', -0.062551798316321711),\n",
       " ('SEMIO_SOZ', -0.062947014529773082),\n",
       " ('PLZ8_GBZ', -0.064461394186857271),\n",
       " ('ANZ_PERSONEN', -0.065903301752823606),\n",
       " ('LP_LEBENSPHASE_FEIN_1.0', -0.067654592650587542),\n",
       " ('LP_LEBENSPHASE_FEIN_30.0', -0.06780136765125859),\n",
       " ('ZABEOTYP_1', -0.06782184574583365),\n",
       " ('FINANZTYP_3', -0.075027222030931318),\n",
       " ('LP_LEBENSPHASE_GROB_11.0', -0.076150023042572026),\n",
       " ('KBA05_ANTG1', -0.076616926086024439),\n",
       " ('PLZ8_BAUMAX_1.0', -0.080309308475523922),\n",
       " ('KBA05_GBZ', -0.081263092219225203),\n",
       " ('PLZ8_ANTG1', -0.082303089700163881),\n",
       " ('LP_LEBENSPHASE_GROB_9.0', -0.082670910248874227),\n",
       " ('MOBI_REGIO', -0.083969258784772224),\n",
       " ('ZABEOTYP_5', -0.087646380078391484),\n",
       " ('FINANZTYP_4', -0.090841701493223084),\n",
       " ('LP_LEBENSPHASE_GROB_1.0', -0.098014474625167894),\n",
       " ('ZABEOTYP_4', -0.098658894715646747),\n",
       " ('SEMIO_MAT', -0.11815749713890354),\n",
       " ('FINANZTYP_1', -0.12034895343522019),\n",
       " ('SEMIO_FAM', -0.12457260954154376),\n",
       " ('SEMIO_RAT', -0.1511450961396161),\n",
       " ('SEMIO_KULT', -0.15740682522335689),\n",
       " ('ONLINE_AFFINITAET', -0.15986353778541604),\n",
       " ('FINANZ_ANLEGER', -0.18734799003767624),\n",
       " ('Decade_90s', -0.19114571746487827),\n",
       " ('SEMIO_PFLICHT', -0.1915958673775012),\n",
       " ('SEMIO_TRADV', -0.19440712383865039),\n",
       " ('SEMIO_REL', -0.20122085669492087),\n",
       " ('FINANZ_UNAUFFAELLIGER', -0.20674094871339421),\n",
       " ('FINANZ_SPARER', -0.2102424996320412)]"
      ]
     },
     "execution_count": 64,
     "metadata": {},
     "output_type": "execute_result"
    }
   ],
   "source": [
    "weights = pca_weights(pca,1)\n",
    "weights"
   ]
  },
  {
   "cell_type": "code",
   "execution_count": 65,
   "metadata": {},
   "outputs": [
    {
     "data": {
      "text/plain": [
       "[('SEMIO_VERT', 0.31054769959611883),\n",
       " ('SEMIO_SOZ', 0.25064054724888019),\n",
       " ('SEMIO_FAM', 0.25023824749416013),\n",
       " ('SEMIO_KULT', 0.23840024736539422),\n",
       " ('FINANZTYP_5', 0.14035350087927567),\n",
       " ('FINANZ_MINIMALIST', 0.13162009460877822),\n",
       " ('ZABEOTYP_1', 0.11763036648690688),\n",
       " ('SHOPPER_TYP_0.0', 0.11582251752814281),\n",
       " ('SEMIO_REL', 0.11402684847367289),\n",
       " ('Movement_Avantgarde', 0.10776435048945997),\n",
       " ('GREEN_AVANTGARDE', 0.10776435048945995),\n",
       " ('ORTSGR_KLS9', 0.085014045140842556),\n",
       " ('RETOURTYP_BK_S', 0.084815096337927165),\n",
       " ('SEMIO_MAT', 0.084193781135368434),\n",
       " ('EWDICHTE', 0.083930574030252572),\n",
       " ('LP_STATUS_GROB_5.0', 0.082344929415505322),\n",
       " ('PLZ8_ANTG3', 0.064614947712572909),\n",
       " ('PLZ8_ANTG4', 0.063406153463644144),\n",
       " ('ZABEOTYP_6', 0.05276357551491314),\n",
       " ('PLZ8_BAUMAX_5.0', 0.052056180581057765),\n",
       " ('PLZ8_ANTG2', 0.048728781780441634),\n",
       " ('FINANZ_VORSORGER', 0.047884296004134914),\n",
       " ('RELAT_AB', 0.041477493298130434),\n",
       " ('SHOPPER_TYP_1.0', 0.040258731254715956),\n",
       " ('LP_LEBENSPHASE_FEIN_13.0', 0.039563498225299705),\n",
       " ('LP_LEBENSPHASE_FEIN_40.0', 0.038001414454626799),\n",
       " ('LP_LEBENSPHASE_FEIN_20.0', 0.037915638890952515),\n",
       " ('ARBEIT', 0.036589384437067898),\n",
       " ('LP_STATUS_GROB_3.0', 0.035226776814870346),\n",
       " ('Nation_W', 0.033666090775787451),\n",
       " ('Life_Stage_Couples & Singles', 0.031932821617402775),\n",
       " ('LP_LEBENSPHASE_GROB_5.0', 0.031088957965064237),\n",
       " ('LP_LEBENSPHASE_FEIN_9.0', 0.030740150140387092),\n",
       " ('SEMIO_LUST', 0.030582054748377756),\n",
       " ('LP_FAMILIE_GROB_2.0', 0.030348545212233201),\n",
       " ('Decade_60s', 0.029502595513346688),\n",
       " ('NATIONALITAET_KZ_2.0', 0.028522498548646275),\n",
       " ('LP_LEBENSPHASE_FEIN_35.0', 0.028019104328680846),\n",
       " ('WOHNLAGE_1.0', 0.027176504555915536),\n",
       " ('W_KEIT_KIND_HH', 0.026687061088697103),\n",
       " ('KBA05_ANTG4', 0.026638003339012416),\n",
       " ('Decade_50s', 0.026433196298836142),\n",
       " ('LP_LEBENSPHASE_GROB_12.0', 0.025103420274465899),\n",
       " ('FINANZTYP_3', 0.024603731805182404),\n",
       " ('LP_LEBENSPHASE_GROB_3.0', 0.024264980718147696),\n",
       " ('WOHNDAUER_2008', 0.024078093314025686),\n",
       " ('Wealth_Poorer', 0.023955988314131028),\n",
       " ('ANZ_HAUSHALTE_AKTIV', 0.022297802606029132),\n",
       " ('PLZ8_BAUMAX_4.0', 0.020663616374540814),\n",
       " ('WOHNLAGE_3.0', 0.020518976306624821),\n",
       " ('LP_LEBENSPHASE_FEIN_39.0', 0.020389110748586604),\n",
       " ('WOHNLAGE_5.0', 0.019269007517069017),\n",
       " ('Nation_E', 0.0191981165028083),\n",
       " ('PLZ8_HHZ', 0.018845789303521356),\n",
       " ('LP_LEBENSPHASE_GROB_11.0', 0.018760652718619743),\n",
       " ('LP_LEBENSPHASE_FEIN_15.0', 0.017489355245966717),\n",
       " ('ALTERSKATEGORIE_GROB', 0.017285577770548399),\n",
       " ('LP_LEBENSPHASE_FEIN_36.0', 0.017151900012752755),\n",
       " ('CJT_GESAMTTYP_5.0', 0.016438701227111795),\n",
       " ('LP_LEBENSPHASE_FEIN_28.0', 0.016430615479430498),\n",
       " ('Decade_80s', 0.016381679040697209),\n",
       " ('ANZ_TITEL', 0.016200243338152811),\n",
       " ('ANZ_PERSONEN', 0.015593493358755787),\n",
       " ('PLZ8_BAUMAX_2.0', 0.01551735895551315),\n",
       " ('LP_LEBENSPHASE_FEIN_17.0', 0.015099858223662849),\n",
       " ('Wealth_Wealthy', 0.014944388869735791),\n",
       " ('LP_FAMILIE_GROB_5.0', 0.013763643386167757),\n",
       " ('PLZ8_BAUMAX_3.0', 0.013456251777584942),\n",
       " ('CJT_GESAMTTYP_3.0', 0.013245821111550269),\n",
       " ('CJT_GESAMTTYP_1.0', 0.012213592281131657),\n",
       " ('Decade_40s', 0.011843551447903397),\n",
       " ('WOHNLAGE_4.0', 0.01143525326650998),\n",
       " ('LP_LEBENSPHASE_GROB_4.0', 0.010916213773863698),\n",
       " ('CJT_GESAMTTYP_4.0', 0.010392556439201775),\n",
       " ('WOHNLAGE_2.0', 0.010176343239336239),\n",
       " ('ANZ_HH_TITEL', 0.010084707745701889),\n",
       " ('LP_LEBENSPHASE_FEIN_10.0', 0.0091123688219661245),\n",
       " ('LP_LEBENSPHASE_FEIN_5.0', 0.0090669805955528454),\n",
       " ('FINANZTYP_4', 0.0085925226642473047),\n",
       " ('LP_LEBENSPHASE_FEIN_31.0', 0.0070773394124014769),\n",
       " ('LP_LEBENSPHASE_FEIN_33.0', 0.0067406266992966384),\n",
       " ('LP_LEBENSPHASE_FEIN_18.0', 0.0066472844013456735),\n",
       " ('LP_LEBENSPHASE_FEIN_6.0', 0.0062244998261706593),\n",
       " ('LP_LEBENSPHASE_FEIN_2.0', 0.0043753885186852276),\n",
       " ('Life_Stage_Elders In Retirement', 0.0039372840926461547),\n",
       " ('LP_LEBENSPHASE_FEIN_16.0', 0.0039236363188906564),\n",
       " ('LP_LEBENSPHASE_GROB_8.0', 0.0024647238758795471),\n",
       " ('LP_LEBENSPHASE_FEIN_26.0', 0.0020582879140730514),\n",
       " ('OST_WEST_KZ_W', 0.0018324978164472308),\n",
       " ('KBA05_ANTG3', 0.0015767887650268194),\n",
       " ('NATIONALITAET_KZ_1.0', 0.0011468050938064436),\n",
       " ('LP_LEBENSPHASE_FEIN_4.0', 0.00080101039534344169),\n",
       " ('SOHO_KZ', 0.00039518135060256199),\n",
       " ('WOHNLAGE_0.0', 0.00012203605820103879),\n",
       " ('LP_LEBENSPHASE_GROB_10.0', -0.00021156031908495557),\n",
       " ('Wealth_Comfortable', -0.00022101512668314571),\n",
       " ('LP_LEBENSPHASE_FEIN_19.0', -0.00039002268735840198),\n",
       " ('Wealth_Lower Class', -0.0010292464613152021),\n",
       " ('OST_WEST_KZ_O', -0.0018324978164472199),\n",
       " ('LP_LEBENSPHASE_FEIN_38.0', -0.0025445259818371235),\n",
       " ('Life_Stage_Older Families &  Mature Couples', -0.0032697108931831033),\n",
       " ('LP_LEBENSPHASE_FEIN_14.0', -0.0039292109769725843),\n",
       " ('LP_LEBENSPHASE_FEIN_34.0', -0.0043107146328237918),\n",
       " ('LP_LEBENSPHASE_GROB_2.0', -0.0044057720748430082),\n",
       " ('LP_FAMILIE_GROB_1.0', -0.0047656370106237455),\n",
       " ('Decade_70s', -0.0064971070371401783),\n",
       " ('ZABEOTYP_2', -0.0074467786427320068),\n",
       " ('LP_LEBENSPHASE_FEIN_32.0', -0.0087359808740778977),\n",
       " ('FINANZTYP_6', -0.009168782051399909),\n",
       " ('LP_LEBENSPHASE_FEIN_12.0', -0.0095036071950952167),\n",
       " ('KBA05_ANTG2', -0.010105799177067264),\n",
       " ('LP_LEBENSPHASE_FEIN_29.0', -0.01051461127480135),\n",
       " ('LP_FAMILIE_GROB_4.0', -0.011415747873692782),\n",
       " ('LP_LEBENSPHASE_FEIN_24.0', -0.012271589971675771),\n",
       " ('VERS_TYP', -0.012769377030263993),\n",
       " ('LP_LEBENSPHASE_FEIN_27.0', -0.013523842425861328),\n",
       " ('LP_LEBENSPHASE_FEIN_8.0', -0.014244992638129962),\n",
       " ('LP_LEBENSPHASE_FEIN_11.0', -0.014820826335217639),\n",
       " ('LP_LEBENSPHASE_FEIN_25.0', -0.014821616927242574),\n",
       " ('ONLINE_AFFINITAET', -0.014883625449164819),\n",
       " ('LP_STATUS_GROB_1.0', -0.015481325258121242),\n",
       " ('LP_LEBENSPHASE_FEIN_7.0', -0.015592261769459465),\n",
       " ('KBA05_ANTG1', -0.015732209311766929),\n",
       " ('LP_LEBENSPHASE_FEIN_37.0', -0.017013482743452608),\n",
       " ('LP_LEBENSPHASE_FEIN_3.0', -0.017068687477340284),\n",
       " ('HEALTH_TYP', -0.01730073437774151),\n",
       " ('LP_LEBENSPHASE_FEIN_30.0', -0.018601263491703691),\n",
       " ('WOHNLAGE_8.0', -0.018884374628423628),\n",
       " ('LP_LEBENSPHASE_GROB_7.0', -0.01917559033886785),\n",
       " ('CJT_GESAMTTYP_6.0', -0.019805805977058333),\n",
       " ('LP_LEBENSPHASE_GROB_9.0', -0.020598812155050623),\n",
       " ('MIN_GEBAEUDEJAHR', -0.021396095853597759),\n",
       " ('SEMIO_PFLICHT', -0.022017927621750918),\n",
       " ('SEMIO_TRADV', -0.022092196415373695),\n",
       " ('Life_Stage_Families With School Age Children', -0.02221193559980144),\n",
       " ('Life_Stage_Young Couples With Children', -0.023134180980118081),\n",
       " ('LP_LEBENSPHASE_GROB_1.0', -0.02339367680335722),\n",
       " ('KBA05_GBZ', -0.024892222012943516),\n",
       " ('KBA13_ANZAHL_PKW', -0.0249998466688456),\n",
       " ('LP_LEBENSPHASE_FEIN_23.0', -0.026616311465706467),\n",
       " ('FINANZTYP_2', -0.027034938669519858),\n",
       " ('LP_LEBENSPHASE_FEIN_1.0', -0.027218480085728445),\n",
       " ('MOBI_REGIO', -0.028058543435353776),\n",
       " ('LP_STATUS_GROB_4.0', -0.029849572059114236),\n",
       " ('NATIONALITAET_KZ_3.0', -0.030514839622536555),\n",
       " ('CJT_GESAMTTYP_2.0', -0.032614948639513856),\n",
       " ('REGIOTYP', -0.03295103450658065),\n",
       " ('ZABEOTYP_5', -0.034652104288867336),\n",
       " ('KKK', -0.034659570491245788),\n",
       " ('Wealth_Prosperous', -0.036918755824028357),\n",
       " ('LP_LEBENSPHASE_FEIN_22.0', -0.037390754108617391),\n",
       " ('ZABEOTYP_3', -0.038536446611208461),\n",
       " ('Nation_E+W', -0.040102957378075052),\n",
       " ('SHOPPER_TYP_3.0', -0.041360253140399324),\n",
       " ('FINANZ_UNAUFFAELLIGER', -0.04170048463111227),\n",
       " ('LP_STATUS_GROB_2.0', -0.041882716786591265),\n",
       " ('PLZ8_GBZ', -0.043481939129411305),\n",
       " ('GEBAEUDETYP_RASTER', -0.044177846346828399),\n",
       " ('LP_LEBENSPHASE_FEIN_21.0', -0.044667815897543865),\n",
       " ('HH_EINKOMMEN_SCORE', -0.050822455482256453),\n",
       " ('Decade_90s', -0.054018269747082237),\n",
       " ('FINANZ_SPARER', -0.054873839402512503),\n",
       " ('PLZ8_ANTG1', -0.05860797611320688),\n",
       " ('KONSUMNAEHE', -0.060179507101728348),\n",
       " ('ZABEOTYP_4', -0.061739105479022997),\n",
       " ('PLZ8_BAUMAX_1.0', -0.06380240395127515),\n",
       " ('LP_FAMILIE_GROB_3.0', -0.064138456503965158),\n",
       " ('LP_LEBENSPHASE_GROB_6.0', -0.064138456503965158),\n",
       " ('BALLRAUM', -0.065036710655957564),\n",
       " ('WOHNLAGE_7.0', -0.065468542253932185),\n",
       " ('FINANZ_HAUSBAUER', -0.065661260306830879),\n",
       " ('INNENSTADT', -0.073936749510665103),\n",
       " ('SHOPPER_TYP_2.0', -0.095875470632550794),\n",
       " ('FINANZTYP_1', -0.099176613730776658),\n",
       " ('Movement_MainStream', -0.10631087229859607),\n",
       " ('SEMIO_RAT', -0.14830104068199718),\n",
       " ('FINANZ_ANLEGER', -0.15667455086884249),\n",
       " ('SEMIO_ERL', -0.19489869743680177),\n",
       " ('SEMIO_KRIT', -0.25322504537969448),\n",
       " ('SEMIO_DOM', -0.26551063820352339),\n",
       " ('SEMIO_KAEM', -0.29826953249634774),\n",
       " ('ANREDE_KZ', -0.33159058658060164)]"
      ]
     },
     "execution_count": 65,
     "metadata": {},
     "output_type": "execute_result"
    }
   ],
   "source": [
    "# Map weights for the second principal component to corresponding feature names\n",
    "# and then print the linked values, sorted by weight.\n",
    "weights = pca_weights(pca , 2)\n",
    "weights\n"
   ]
  },
  {
   "cell_type": "code",
   "execution_count": 66,
   "metadata": {},
   "outputs": [
    {
     "data": {
      "text/plain": [
       "[('GREEN_AVANTGARDE', 0.28225046704240969),\n",
       " ('Movement_Avantgarde', 0.28225046704240969),\n",
       " ('LP_STATUS_GROB_5.0', 0.23496044331387797),\n",
       " ('EWDICHTE', 0.18492137198221828),\n",
       " ('ORTSGR_KLS9', 0.18390228127456121),\n",
       " ('SEMIO_DOM', 0.16214549864184025),\n",
       " ('SEMIO_KAEM', 0.15386503128795684),\n",
       " ('Nation_W', 0.14175278766972405),\n",
       " ('ANREDE_KZ', 0.12641998693405412),\n",
       " ('ANZ_PERSONEN', 0.11745514189414562),\n",
       " ('ONLINE_AFFINITAET', 0.10908315249261952),\n",
       " ('LP_LEBENSPHASE_FEIN_39.0', 0.095962801341348145),\n",
       " ('LP_FAMILIE_GROB_5.0', 0.095257947240297139),\n",
       " ('WOHNLAGE_1.0', 0.093891461867039436),\n",
       " ('LP_LEBENSPHASE_FEIN_40.0', 0.093876747817595085),\n",
       " ('ZABEOTYP_2', 0.092964093043796839),\n",
       " ('LP_LEBENSPHASE_FEIN_35.0', 0.09238165134154977),\n",
       " ('LP_LEBENSPHASE_FEIN_28.0', 0.088923574928089374),\n",
       " ('PLZ8_ANTG3', 0.088537922826505425),\n",
       " ('Decade_80s', 0.088255753835386072),\n",
       " ('PLZ8_ANTG2', 0.08653633142404249),\n",
       " ('OST_WEST_KZ_W', 0.083583649363995857),\n",
       " ('Wealth_Wealthy', 0.083143263679474042),\n",
       " ('LP_LEBENSPHASE_FEIN_20.0', 0.082298066191782093),\n",
       " ('SEMIO_KRIT', 0.079710915312681055),\n",
       " ('RELAT_AB', 0.078780500844937679),\n",
       " ('PLZ8_ANTG4', 0.074921386633306108),\n",
       " ('LP_LEBENSPHASE_FEIN_13.0', 0.074213745521708965),\n",
       " ('SEMIO_RAT', 0.069036424832837229),\n",
       " ('WOHNLAGE_2.0', 0.067149510193352815),\n",
       " ('WOHNLAGE_3.0', 0.06684010213526384),\n",
       " ('PLZ8_HHZ', 0.065934697683795632),\n",
       " ('LP_LEBENSPHASE_GROB_12.0', 0.064406459358872917),\n",
       " ('LP_FAMILIE_GROB_4.0', 0.062985382913846019),\n",
       " ('SEMIO_ERL', 0.062306067142197802),\n",
       " ('SHOPPER_TYP_3.0', 0.060270593420979846),\n",
       " ('LP_LEBENSPHASE_GROB_11.0', 0.059990605046960938),\n",
       " ('FINANZ_UNAUFFAELLIGER', 0.058184928561964055),\n",
       " ('LP_LEBENSPHASE_GROB_8.0', 0.056229016672809176),\n",
       " ('FINANZTYP_5', 0.053951651078528),\n",
       " ('PLZ8_BAUMAX_5.0', 0.052838538692044627),\n",
       " ('ARBEIT', 0.050760235981297197),\n",
       " ('CJT_GESAMTTYP_6.0', 0.048905273845303229),\n",
       " ('LP_STATUS_GROB_3.0', 0.04197077425461386),\n",
       " ('ZABEOTYP_1', 0.039673962459825213),\n",
       " ('Life_Stage_Older Families &  Mature Couples', 0.039431472642884165),\n",
       " ('PLZ8_BAUMAX_2.0', 0.036988336135556299),\n",
       " ('FINANZTYP_3', 0.033091035826029874),\n",
       " ('LP_LEBENSPHASE_FEIN_36.0', 0.032435878368036845),\n",
       " ('KBA05_ANTG1', 0.03124408446220368),\n",
       " ('LP_LEBENSPHASE_GROB_7.0', 0.030588564052172976),\n",
       " ('LP_FAMILIE_GROB_3.0', 0.030294533920188008),\n",
       " ('LP_LEBENSPHASE_GROB_6.0', 0.030294533920188008),\n",
       " ('SHOPPER_TYP_2.0', 0.029176746242829905),\n",
       " ('LP_LEBENSPHASE_FEIN_33.0', 0.028906155240946203),\n",
       " ('LP_LEBENSPHASE_FEIN_29.0', 0.0285216726199078),\n",
       " ('LP_LEBENSPHASE_GROB_9.0', 0.028088879979821787),\n",
       " ('ANZ_TITEL', 0.027407966849807567),\n",
       " ('LP_LEBENSPHASE_FEIN_24.0', 0.026200930665842219),\n",
       " ('SEMIO_TRADV', 0.025375964366654579),\n",
       " ('WOHNDAUER_2008', 0.025228625251656079),\n",
       " ('FINANZTYP_1', 0.024050810387790562),\n",
       " ('LP_LEBENSPHASE_FEIN_21.0', 0.023910298977724235),\n",
       " ('LP_LEBENSPHASE_FEIN_26.0', 0.023731433850843749),\n",
       " ('LP_LEBENSPHASE_FEIN_23.0', 0.021537320908108743),\n",
       " ('CJT_GESAMTTYP_3.0', 0.020908085857335112),\n",
       " ('VERS_TYP', 0.020598196354932145),\n",
       " ('LP_LEBENSPHASE_GROB_5.0', 0.02016802952255823),\n",
       " ('ZABEOTYP_4', 0.02016574513451275),\n",
       " ('LP_LEBENSPHASE_FEIN_31.0', 0.018412541956315823),\n",
       " ('LP_LEBENSPHASE_GROB_10.0', 0.017734291618396958),\n",
       " ('LP_LEBENSPHASE_FEIN_25.0', 0.016316688160852747),\n",
       " ('LP_LEBENSPHASE_FEIN_17.0', 0.016013120945520553),\n",
       " ('HEALTH_TYP', 0.01527895612543851),\n",
       " ('SEMIO_PFLICHT', 0.014989676604389927),\n",
       " ('SEMIO_LUST', 0.014896912251977394),\n",
       " ('LP_LEBENSPHASE_FEIN_18.0', 0.013456310180671276),\n",
       " ('LP_LEBENSPHASE_FEIN_2.0', 0.012637485265720349),\n",
       " ('Nation_E', 0.010788391359729938),\n",
       " ('WOHNLAGE_4.0', 0.010628397727714581),\n",
       " ('LP_FAMILIE_GROB_2.0', 0.010306229861765789),\n",
       " ('LP_LEBENSPHASE_FEIN_30.0', 0.0096840607079409328),\n",
       " ('Wealth_Comfortable', 0.0095494228999552476),\n",
       " ('PLZ8_BAUMAX_4.0', 0.0088763186297335806),\n",
       " ('FINANZ_SPARER', 0.00729400531348251),\n",
       " ('LP_LEBENSPHASE_FEIN_14.0', 0.006434449037660158),\n",
       " ('PLZ8_BAUMAX_3.0', 0.0063476702148917924),\n",
       " ('CJT_GESAMTTYP_5.0', 0.0055022810244698224),\n",
       " ('LP_LEBENSPHASE_FEIN_32.0', 0.0053052608126408791),\n",
       " ('KBA05_ANTG4', 0.004671846012896416),\n",
       " ('LP_LEBENSPHASE_FEIN_22.0', 0.0044416423108000107),\n",
       " ('NATIONALITAET_KZ_2.0', 0.0043950260272889174),\n",
       " ('ANZ_HH_TITEL', 0.0043075978978381526),\n",
       " ('SOHO_KZ', 0.003756582070638254),\n",
       " ('NATIONALITAET_KZ_3.0', 0.0036944179568788446),\n",
       " ('MOBI_REGIO', 0.0035165377610509264),\n",
       " ('Life_Stage_Elders In Retirement', 0.0032148382092759098),\n",
       " ('FINANZTYP_4', 0.0020065502311371187),\n",
       " ('WOHNLAGE_0.0', 0.00099207999876367733),\n",
       " ('KBA13_ANZAHL_PKW', -0.0011403175013803952),\n",
       " ('LP_LEBENSPHASE_FEIN_4.0', -0.0012473803993493647),\n",
       " ('FINANZ_MINIMALIST', -0.0020401253766749589),\n",
       " ('LP_LEBENSPHASE_FEIN_9.0', -0.0023735335800272317),\n",
       " ('Life_Stage_Couples & Singles', -0.0028280796722688403),\n",
       " ('KBA05_ANTG2', -0.0030990691559363015),\n",
       " ('CJT_GESAMTTYP_4.0', -0.0033105988389856762),\n",
       " ('ANZ_HAUSHALTE_AKTIV', -0.0037311235411392417),\n",
       " ('LP_LEBENSPHASE_FEIN_15.0', -0.0051985790488434354),\n",
       " ('LP_LEBENSPHASE_GROB_4.0', -0.0054236841346813934),\n",
       " ('FINANZTYP_2', -0.0063061785470624205),\n",
       " ('KBA05_GBZ', -0.0075956260084870109),\n",
       " ('Decade_90s', -0.0079212135391398802),\n",
       " ('RETOURTYP_BK_S', -0.0084741158576963054),\n",
       " ('WOHNLAGE_5.0', -0.009107361744586831),\n",
       " ('LP_LEBENSPHASE_FEIN_16.0', -0.010958788702354699),\n",
       " ('ALTERSKATEGORIE_GROB', -0.010980816985452189),\n",
       " ('FINANZ_VORSORGER', -0.011485623057886918),\n",
       " ('Decade_40s', -0.012842311844254953),\n",
       " ('Wealth_Poorer', -0.013186441175433735),\n",
       " ('NATIONALITAET_KZ_1.0', -0.013689206105217728),\n",
       " ('LP_STATUS_GROB_1.0', -0.014312743007991305),\n",
       " ('LP_LEBENSPHASE_FEIN_10.0', -0.015903574514050899),\n",
       " ('PLZ8_GBZ', -0.016010713484756797),\n",
       " ('LP_LEBENSPHASE_FEIN_27.0', -0.016311852122674688),\n",
       " ('Decade_60s', -0.016758597458867437),\n",
       " ('ZABEOTYP_6', -0.017888280982128267),\n",
       " ('Wealth_Lower Class', -0.018367597887556559),\n",
       " ('Decade_50s', -0.018617547430789187),\n",
       " ('KBA05_ANTG3', -0.018939108917370294),\n",
       " ('SEMIO_MAT', -0.01958243063884825),\n",
       " ('LP_LEBENSPHASE_FEIN_34.0', -0.021898564871548357),\n",
       " ('Life_Stage_Young Couples With Children', -0.025113379685355819),\n",
       " ('Life_Stage_Families With School Age Children', -0.027283710260822377),\n",
       " ('LP_LEBENSPHASE_FEIN_1.0', -0.028171159673172418),\n",
       " ('LP_LEBENSPHASE_GROB_1.0', -0.028603714721581124),\n",
       " ('LP_LEBENSPHASE_FEIN_5.0', -0.030535365543481928),\n",
       " ('ZABEOTYP_5', -0.032330168184446326),\n",
       " ('LP_LEBENSPHASE_FEIN_6.0', -0.032841726818529766),\n",
       " ('CJT_GESAMTTYP_1.0', -0.033886193779182686),\n",
       " ('SHOPPER_TYP_1.0', -0.034566710384876756),\n",
       " ('LP_LEBENSPHASE_FEIN_7.0', -0.034949393263008756),\n",
       " ('CJT_GESAMTTYP_2.0', -0.035321055522563094),\n",
       " ('LP_LEBENSPHASE_FEIN_3.0', -0.037994879974982222),\n",
       " ('WOHNLAGE_8.0', -0.039829629421175322),\n",
       " ('LP_LEBENSPHASE_FEIN_37.0', -0.040153926954208309),\n",
       " ('Decade_70s', -0.041000842382789233),\n",
       " ('FINANZ_HAUSBAUER', -0.041510929566111854),\n",
       " ('Wealth_Prosperous', -0.041636644535062821),\n",
       " ('LP_LEBENSPHASE_FEIN_38.0', -0.044153623144623809),\n",
       " ('SEMIO_REL', -0.044406622090451611),\n",
       " ('LP_LEBENSPHASE_FEIN_8.0', -0.044945195579420269),\n",
       " ('GEBAEUDETYP_RASTER', -0.044968527883108615),\n",
       " ('LP_STATUS_GROB_2.0', -0.045232241808759281),\n",
       " ('FINANZ_ANLEGER', -0.049477384287807791),\n",
       " ('PLZ8_ANTG1', -0.050300429372451071),\n",
       " ('ZABEOTYP_3', -0.053134631400473635),\n",
       " ('MIN_GEBAEUDEJAHR', -0.054307434521297174),\n",
       " ('LP_LEBENSPHASE_GROB_3.0', -0.059919560949671755),\n",
       " ('LP_LEBENSPHASE_FEIN_19.0', -0.065858684041569346),\n",
       " ('SHOPPER_TYP_0.0', -0.066601945471029655),\n",
       " ('PLZ8_BAUMAX_1.0', -0.067123652172855153),\n",
       " ('SEMIO_SOZ', -0.069117222101327369),\n",
       " ('FINANZTYP_6', -0.069326456096001271),\n",
       " ('LP_LEBENSPHASE_GROB_2.0', -0.076001731209016973),\n",
       " ('OST_WEST_KZ_O', -0.083583649363995871),\n",
       " ('LP_LEBENSPHASE_FEIN_11.0', -0.088786806525613035),\n",
       " ('REGIOTYP', -0.094400859192271591),\n",
       " ('SEMIO_KULT', -0.094490658310258657),\n",
       " ('KKK', -0.094695922190050935),\n",
       " ('SEMIO_FAM', -0.094984698289941022),\n",
       " ('LP_LEBENSPHASE_FEIN_12.0', -0.095321653194037403),\n",
       " ('KONSUMNAEHE', -0.096187002231762075),\n",
       " ('W_KEIT_KIND_HH', -0.098007421253415952),\n",
       " ('SEMIO_VERT', -0.10263946113630242),\n",
       " ('LP_FAMILIE_GROB_1.0', -0.12361849389332862),\n",
       " ('Nation_E+W', -0.13406653170148344),\n",
       " ('HH_EINKOMMEN_SCORE', -0.13603491162867851),\n",
       " ('INNENSTADT', -0.14356095070829666),\n",
       " ('BALLRAUM', -0.14486131989672529),\n",
       " ('LP_STATUS_GROB_4.0', -0.17039313302455253),\n",
       " ('WOHNLAGE_7.0', -0.17474854985709942),\n",
       " ('Movement_MainStream', -0.27754498125856253)]"
      ]
     },
     "execution_count": 66,
     "metadata": {},
     "output_type": "execute_result"
    }
   ],
   "source": [
    "# Map weights for the third principal component to corresponding feature names\n",
    "# and then print the linked values, sorted by weight.\n",
    "weights = pca_weights(pca,3)\n",
    "\n",
    "weights\n",
    "\n"
   ]
  },
  {
   "cell_type": "markdown",
   "metadata": {},
   "source": [
    "### Discussion 2.3: Interpret Principal Components\n",
    "\n",
    "We can interpret positive and negative values as they give an indication on the relationship between two variables. For example the wealth comfortable households is positive in the first component, and the wealth poorer household is negative. "
   ]
  },
  {
   "cell_type": "markdown",
   "metadata": {},
   "source": [
    "## Step 3: Clustering\n",
    "\n",
    "### Step 3.1: Apply Clustering to General Population\n",
    "\n",
    "You've assessed and cleaned the demographics data, then scaled and transformed them. Now, it's time to see how the data clusters in the principal components space. In this substep, you will apply k-means clustering to the dataset and use the average within-cluster distances from each point to their assigned cluster's centroid to decide on a number of clusters to keep.\n",
    "\n",
    "- Use sklearn's [KMeans](http://scikit-learn.org/stable/modules/generated/sklearn.cluster.KMeans.html#sklearn.cluster.KMeans) class to perform k-means clustering on the PCA-transformed data.\n",
    "- Then, compute the average difference from each point to its assigned cluster's center. **Hint**: The KMeans object's `.score()` method might be useful here, but note that in sklearn, scores tend to be defined so that larger is better. Try applying it to a small, toy dataset, or use an internet search to help your understanding.\n",
    "- Perform the above two steps for a number of different cluster counts. You can then see how the average distance decreases with an increasing number of clusters. However, each additional cluster provides a smaller net benefit. Use this fact to select a final number of clusters in which to group the data. **Warning**: because of the large size of the dataset, it can take a long time for the algorithm to resolve. The more clusters to fit, the longer the algorithm will take. You should test for cluster counts through at least 10 clusters to get the full picture, but you shouldn't need to test for a number of clusters above about 30.\n",
    "- Once you've selected a final number of clusters to use, re-fit a KMeans instance to perform the clustering operation. Make sure that you also obtain the cluster assignments for the general demographics data, since you'll be using them in the final Step 3.3."
   ]
  },
  {
   "cell_type": "code",
   "execution_count": 49,
   "metadata": {},
   "outputs": [
    {
     "data": {
      "text/plain": [
       "[<matplotlib.lines.Line2D at 0x7f1d28fdb518>]"
      ]
     },
     "execution_count": 49,
     "metadata": {},
     "output_type": "execute_result"
    },
    {
     "data": {
      "image/png": "[encoded data removed]",
      "text/plain": [
       "<matplotlib.figure.Figure at 0x7f1d2cc1deb8>"
      ]
     },
     "metadata": {
      "needs_background": "light"
     },
     "output_type": "display_data"
    }
   ],
   "source": [
    "from sklearn.cluster import KMeans\n",
    "\n",
    "def score(data, k):\n",
    "    kmeans_k = KMeans(k)\n",
    "    model_k = kmeans_k.fit(data)\n",
    "    return abs(model_k.score(data))\n",
    "\n",
    "scores = []\n",
    "centers = np.linspace(1,30,30)\n",
    "for i in range(1, 31):\n",
    "    scores.append(score(df_pca, i))\n",
    "    \n",
    "plt.plot(centers, scores, linestyle='-', marker='o')\n",
    "\n",
    "    "
   ]
  },
  {
   "cell_type": "code",
   "execution_count": 50,
   "metadata": {},
   "outputs": [],
   "source": [
    "# Investigate the change in within-cluster distance across number of clusters.\n",
    "# HINT: Use matplotlib's plot function to visualize this relationship.\n",
    "\n"
   ]
  },
  {
   "cell_type": "code",
   "execution_count": 67,
   "metadata": {},
   "outputs": [],
   "source": [
    "# Re-fit the k-means model with the selected number of clusters and obtain\n",
    "# cluster predictions for the general population demographics data.\n",
    "from sklearn.cluster import KMeans\n",
    "\n",
    "kmeans_k = KMeans(15)\n",
    "model_k = kmeans_k.fit(df_pca)\n",
    "prediction_azdias = model_k.predict(df_pca)"
   ]
  },
  {
   "cell_type": "markdown",
   "metadata": {},
   "source": [
    "### Discussion 3.1: Apply Clustering to General Population\n",
    "\n",
    "From the plot it is easy to see a steady decrease in score, however the slope also slows down (decreases) at around 15, therefore I chose to re-fit k-means with 15 clusters. "
   ]
  },
  {
   "cell_type": "markdown",
   "metadata": {},
   "source": [
    "### Step 3.2: Apply All Steps to the Customer Data\n",
    "\n",
    "Now that you have clusters and cluster centers for the general population, it's time to see how the customer data maps on to those clusters. Take care to not confuse this for re-fitting all of the models to the customer data. Instead, you're going to use the fits from the general population to clean, transform, and cluster the customer data. In the last step of the project, you will interpret how the general population fits apply to the customer data.\n",
    "\n",
    "- Don't forget when loading in the customers data, that it is semicolon (`;`) delimited.\n",
    "- Apply the same feature wrangling, selection, and engineering steps to the customer demographics using the `clean_data()` function you created earlier. (You can assume that the customer demographics data has similar meaning behind missing data patterns as the general demographics data.)\n",
    "- Use the sklearn objects from the general demographics data, and apply their transformations to the customers data. That is, you should not be using a `.fit()` or `.fit_transform()` method to re-fit the old objects, nor should you be creating new sklearn objects! Carry the data through the feature scaling, PCA, and clustering steps, obtaining cluster assignments for all of the data in the customer demographics data."
   ]
  },
  {
   "cell_type": "code",
   "execution_count": 72,
   "metadata": {},
   "outputs": [],
   "source": [
    "customers = pd.read_csv('Udacity_CUSTOMERS_Subset.csv', delimiter = ';')\n",
    "len_customers = len(customers)"
   ]
  },
  {
   "cell_type": "code",
   "execution_count": 70,
   "metadata": {},
   "outputs": [
    {
     "data": {
      "image/png": "[encoded data removed]",
      "text/plain": [
       "<matplotlib.figure.Figure at 0x7f7d237f8f60>"
      ]
     },
     "metadata": {},
     "output_type": "display_data"
    }
   ],
   "source": [
    "plt.figure(figsize=(16,4))\n",
    "plt.title('Missing Data in Each Row')\n",
    "plt.hist(customers.isnull().sum(axis = 1), bins = np.linspace(0,60,60))\n",
    "plt.xlabel('Missing Data')\n",
    "plt.ylabel('Count')\n",
    "plt.show()"
   ]
  },
  {
   "cell_type": "code",
   "execution_count": null,
   "metadata": {},
   "outputs": [],
   "source": [
    "customers = clean_data(customers)\n",
    "customers[customers.columns] = scale.transform(imp.transform(customers))\n",
    "customers_pca = pca.transform(customers)\n"
   ]
  },
  {
   "cell_type": "code",
   "execution_count": null,
   "metadata": {},
   "outputs": [],
   "source": [
    "prediction_customers = model_k.predict(customers_pca)\n"
   ]
  },
  {
   "cell_type": "markdown",
   "metadata": {},
   "source": [
    "### Step 3.3: Compare Customer Data to Demographics Data\n",
    "\n",
    "At this point, you have clustered data based on demographics of the general population of Germany, and seen how the customer data for a mail-order sales company maps onto those demographic clusters. In this final substep, you will compare the two cluster distributions to see where the strongest customer base for the company is.\n",
    "\n",
    "Consider the proportion of persons in each cluster for the general population, and the proportions for the customers. If we think the company's customer base to be universal, then the cluster assignment proportions should be fairly similar between the two. If there are only particular segments of the population that are interested in the company's products, then we should see a mismatch from one to the other. If there is a higher proportion of persons in a cluster for the customer data compared to the general population (e.g. 5% of persons are assigned to a cluster for the general population, but 15% of the customer data is closest to that cluster's centroid) then that suggests the people in that cluster to be a target audience for the company. On the other hand, the proportion of the data in a cluster being larger in the general population than the customer data (e.g. only 2% of customers closest to a population centroid that captures 6% of the data) suggests that group of persons to be outside of the target demographics.\n",
    "\n",
    "Take a look at the following points in this step:\n",
    "\n",
    "- Compute the proportion of data points in each cluster for the general population and the customer data. Visualizations will be useful here: both for the individual dataset proportions, but also to visualize the ratios in cluster representation between groups. Seaborn's [`countplot()`](https://seaborn.pydata.org/generated/seaborn.countplot.html) or [`barplot()`](https://seaborn.pydata.org/generated/seaborn.barplot.html) function could be handy.\n",
    "  - Recall the analysis you performed in step 1.1.3 of the project, where you separated out certain data points from the dataset if they had more than a specified threshold of missing values. If you found that this group was qualitatively different from the main bulk of the data, you should treat this as an additional data cluster in this analysis. Make sure that you account for the number of data points in this subset, for both the general population and customer datasets, when making your computations!\n",
    "- Which cluster or clusters are overrepresented in the customer dataset compared to the general population? Select at least one such cluster and infer what kind of people might be represented by that cluster. Use the principal component interpretations from step 2.3 or look at additional components to help you make this inference. Alternatively, you can use the `.inverse_transform()` method of the PCA and StandardScaler objects to transform centroids back to the original data space and interpret the retrieved values directly.\n",
    "- Perform a similar investigation for the underrepresented clusters. Which cluster or clusters are underrepresented in the customer dataset compared to the general population, and what kinds of people are typified by these clusters?"
   ]
  },
  {
   "cell_type": "code",
   "execution_count": 108,
   "metadata": {},
   "outputs": [],
   "source": [
    "# Compare the proportion of data in each cluster for the customer data to the\n",
    "# proportion of data in each cluster for the general population.\n",
    "len_azdias = len(azdias)\n",
    "prediction_azdias_1 = np.append(prediction_azdias, [13] * (len_azdias - len(prediction_azdias)))\n",
    "\n"
   ]
  },
  {
   "cell_type": "code",
   "execution_count": 109,
   "metadata": {},
   "outputs": [],
   "source": [
    "prediction_customers_1 = np.append(prediction_customers, [13] * (len_customers - len(prediction_customers)))\n"
   ]
  },
  {
   "cell_type": "code",
   "execution_count": 110,
   "metadata": {},
   "outputs": [],
   "source": [
    "import matplotlib.ticker as ticker\n",
    "\n",
    "def plot_distribution(df, column, height):\n",
    "    ncount = len(df)\n",
    "    plt.figure(figsize=(14,6))\n",
    "    ax = sns.countplot(x = column, data = df)\n",
    "    plt.title('Distribution of each Cluster')\n",
    "    plt.xlabel('Cluster Tag')\n",
    "\n",
    "\n",
    "    ax2=ax.twinx()\n",
    "\n",
    "    \n",
    "    ax2.yaxis.tick_left()\n",
    "    ax.yaxis.tick_right()\n",
    "\n",
    "    \n",
    "    ax.yaxis.set_label_position('right')\n",
    "    ax2.yaxis.set_label_position('left')\n",
    "\n",
    "    ax2.set_ylabel('Frequency [%]')\n",
    "\n",
    "    for p in ax.patches:\n",
    "        x=p.get_bbox().get_points()[:,0]\n",
    "        y=p.get_bbox().get_points()[1,1]\n",
    "        ax.annotate('{:.1f}%'.format(100.*y/ncount), (x.mean(), y), \n",
    "                ha='center', va='bottom') \n",
    "\n",
    "    ax.yaxis.set_major_locator(ticker.LinearLocator(11))\n",
    "\n",
    "    ratio = 100 / height\n",
    "    ax2.set_ylim(0,100 / ratio)\n",
    "    ax.set_ylim(0,ncount / ratio)\n",
    "\n",
    "    \n",
    "    ax2.yaxis.set_major_locator(ticker.MultipleLocator(10))\n",
    "\n",
    "    \n",
    "    ax2.grid(None)"
   ]
  },
  {
   "cell_type": "code",
   "execution_count": 111,
   "metadata": {},
   "outputs": [],
   "source": [
    "df_prediction_azdias_1 = pd.DataFrame(prediction_azdias_1, columns = ['Cluster'])\n",
    "df_prediction_customers_1 = pd.DataFrame(prediction_customers_1, columns = ['Cluster'])"
   ]
  },
  {
   "cell_type": "code",
   "execution_count": 115,
   "metadata": {},
   "outputs": [],
   "source": [
    "def drop_data(df):\n",
    "    \n",
    "\n",
    "    \n",
    "    feat_info = pd.read_csv('AZDIAS_Feature_Summary.csv', sep = ';')\n",
    "    for i, column in enumerate(df.columns):\n",
    "        str_n = feat_info['missing_or_unknown'].iloc[i]\n",
    "        if i in [57, 58, 59]:\n",
    "            list_n = str_n[1: -1].split(',')\n",
    "        else:\n",
    "            list_n = ast.literal_eval(str_n)\n",
    "        for num in list_n:\n",
    "            df[column].replace(num, np.NaN, inplace = True)\n",
    "    \n",
    "    \n",
    "    drop_columns = ['TITEL_KZ', 'AGER_TYP', 'GEBURTSJAHR', 'ALTER_HH', 'KK_KUNDENTYP', 'KBA05_BAUMAX']\n",
    "    df.drop(drop_columns, axis = 1, inplace = True)\n",
    "    \n",
    "    df['Missing_num'] = df.isnull().sum(axis=1)\n",
    "    df_1 = df[df['Missing_num'] <= 5]\n",
    "    df_1 = df_1.drop('Missing_num', axis = 1)\n",
    "    df_1 = new_feature_1(df_1)\n",
    "    df_1 = new_feature_2(df_1)\n",
    "    return df_1"
   ]
  },
  {
   "cell_type": "code",
   "execution_count": 116,
   "metadata": {},
   "outputs": [],
   "source": [
    "azdias = pd.read_csv('Udacity_AZDIAS_Subset.csv', sep=';')\n",
    "customers = pd.read_csv('Udacity_CUSTOMERS_Subset.csv', sep = ';')\n",
    "azdias = drop_data(azdias)\n",
    "customers = drop_data(customers)"
   ]
  },
  {
   "cell_type": "code",
   "execution_count": 117,
   "metadata": {},
   "outputs": [
    {
     "data": {
      "text/html": [
       "<div>\n",
       "<style>\n",
       "    .dataframe thead tr:only-child th {\n",
       "        text-align: right;\n",
       "    }\n",
       "\n",
       "    .dataframe thead th {\n",
       "        text-align: left;\n",
       "    }\n",
       "\n",
       "    .dataframe tbody tr th {\n",
       "        vertical-align: top;\n",
       "    }\n",
       "</style>\n",
       "<table border=\"1\" class=\"dataframe\">\n",
       "  <thead>\n",
       "    <tr style=\"text-align: right;\">\n",
       "      <th></th>\n",
       "      <th>ALTERSKATEGORIE_GROB</th>\n",
       "      <th>ANREDE_KZ</th>\n",
       "      <th>CJT_GESAMTTYP</th>\n",
       "      <th>FINANZ_MINIMALIST</th>\n",
       "      <th>FINANZ_SPARER</th>\n",
       "      <th>FINANZ_VORSORGER</th>\n",
       "      <th>FINANZ_ANLEGER</th>\n",
       "      <th>FINANZ_UNAUFFAELLIGER</th>\n",
       "      <th>FINANZ_HAUSBAUER</th>\n",
       "      <th>FINANZTYP</th>\n",
       "      <th>...</th>\n",
       "      <th>PLZ8_HHZ</th>\n",
       "      <th>PLZ8_GBZ</th>\n",
       "      <th>ARBEIT</th>\n",
       "      <th>ORTSGR_KLS9</th>\n",
       "      <th>RELAT_AB</th>\n",
       "      <th>Decade</th>\n",
       "      <th>Movement</th>\n",
       "      <th>Nation</th>\n",
       "      <th>Wealth</th>\n",
       "      <th>Life_Stage</th>\n",
       "    </tr>\n",
       "  </thead>\n",
       "  <tbody>\n",
       "    <tr>\n",
       "      <th>34</th>\n",
       "      <td>2.0</td>\n",
       "      <td>1</td>\n",
       "      <td>3.0</td>\n",
       "      <td>5</td>\n",
       "      <td>1</td>\n",
       "      <td>5</td>\n",
       "      <td>1</td>\n",
       "      <td>2</td>\n",
       "      <td>1</td>\n",
       "      <td>2</td>\n",
       "      <td>...</td>\n",
       "      <td>4.0</td>\n",
       "      <td>5.0</td>\n",
       "      <td>1.0</td>\n",
       "      <td>2.0</td>\n",
       "      <td>1.0</td>\n",
       "      <td>70s</td>\n",
       "      <td>MainStream</td>\n",
       "      <td>E+W</td>\n",
       "      <td>Wealthy Households</td>\n",
       "      <td>Young Couples With Children</td>\n",
       "    </tr>\n",
       "    <tr>\n",
       "      <th>104</th>\n",
       "      <td>4.0</td>\n",
       "      <td>2</td>\n",
       "      <td>4.0</td>\n",
       "      <td>2</td>\n",
       "      <td>3</td>\n",
       "      <td>3</td>\n",
       "      <td>4</td>\n",
       "      <td>1</td>\n",
       "      <td>4</td>\n",
       "      <td>6</td>\n",
       "      <td>...</td>\n",
       "      <td>5.0</td>\n",
       "      <td>5.0</td>\n",
       "      <td>2.0</td>\n",
       "      <td>2.0</td>\n",
       "      <td>1.0</td>\n",
       "      <td>70s</td>\n",
       "      <td>MainStream</td>\n",
       "      <td>E+W</td>\n",
       "      <td>Wealthy Households</td>\n",
       "      <td>Families With School Age Children</td>\n",
       "    </tr>\n",
       "    <tr>\n",
       "      <th>231</th>\n",
       "      <td>4.0</td>\n",
       "      <td>1</td>\n",
       "      <td>5.0</td>\n",
       "      <td>4</td>\n",
       "      <td>1</td>\n",
       "      <td>5</td>\n",
       "      <td>2</td>\n",
       "      <td>1</td>\n",
       "      <td>4</td>\n",
       "      <td>6</td>\n",
       "      <td>...</td>\n",
       "      <td>3.0</td>\n",
       "      <td>4.0</td>\n",
       "      <td>1.0</td>\n",
       "      <td>2.0</td>\n",
       "      <td>1.0</td>\n",
       "      <td>60s</td>\n",
       "      <td>MainStream</td>\n",
       "      <td>E+W</td>\n",
       "      <td>Comfortable Households</td>\n",
       "      <td>Older Families &amp;  Mature Couples</td>\n",
       "    </tr>\n",
       "  </tbody>\n",
       "</table>\n",
       "<p>3 rows × 84 columns</p>\n",
       "</div>"
      ],
      "text/plain": [
       "     ALTERSKATEGORIE_GROB  ANREDE_KZ  CJT_GESAMTTYP  FINANZ_MINIMALIST  \\\n",
       "34                    2.0          1            3.0                  5   \n",
       "104                   4.0          2            4.0                  2   \n",
       "231                   4.0          1            5.0                  4   \n",
       "\n",
       "     FINANZ_SPARER  FINANZ_VORSORGER  FINANZ_ANLEGER  FINANZ_UNAUFFAELLIGER  \\\n",
       "34               1                 5               1                      2   \n",
       "104              3                 3               4                      1   \n",
       "231              1                 5               2                      1   \n",
       "\n",
       "     FINANZ_HAUSBAUER  FINANZTYP                ...                  PLZ8_HHZ  \\\n",
       "34                  1          2                ...                       4.0   \n",
       "104                 4          6                ...                       5.0   \n",
       "231                 4          6                ...                       3.0   \n",
       "\n",
       "     PLZ8_GBZ  ARBEIT  ORTSGR_KLS9  RELAT_AB  Decade    Movement  Nation  \\\n",
       "34        5.0     1.0          2.0       1.0     70s  MainStream     E+W   \n",
       "104       5.0     2.0          2.0       1.0     70s  MainStream     E+W   \n",
       "231       4.0     1.0          2.0       1.0     60s  MainStream     E+W   \n",
       "\n",
       "                     Wealth                         Life_Stage  \n",
       "34       Wealthy Households        Young Couples With Children  \n",
       "104      Wealthy Households  Families With School Age Children  \n",
       "231  Comfortable Households   Older Families &  Mature Couples  \n",
       "\n",
       "[3 rows x 84 columns]"
      ]
     },
     "execution_count": 117,
     "metadata": {},
     "output_type": "execute_result"
    }
   ],
   "source": [
    "target_list = df_prediction_customers_1[df_prediction_customers_1['Cluster'] == 3].index\n",
    "df_target = customers.iloc[target_list]\n",
    "df_target.head(3)"
   ]
  },
  {
   "cell_type": "code",
   "execution_count": 118,
   "metadata": {},
   "outputs": [
    {
     "data": {
      "text/html": [
       "<div>\n",
       "<style>\n",
       "    .dataframe thead tr:only-child th {\n",
       "        text-align: right;\n",
       "    }\n",
       "\n",
       "    .dataframe thead th {\n",
       "        text-align: left;\n",
       "    }\n",
       "\n",
       "    .dataframe tbody tr th {\n",
       "        vertical-align: top;\n",
       "    }\n",
       "</style>\n",
       "<table border=\"1\" class=\"dataframe\">\n",
       "  <thead>\n",
       "    <tr style=\"text-align: right;\">\n",
       "      <th></th>\n",
       "      <th>ALTERSKATEGORIE_GROB</th>\n",
       "      <th>ANREDE_KZ</th>\n",
       "      <th>CJT_GESAMTTYP</th>\n",
       "      <th>FINANZ_MINIMALIST</th>\n",
       "      <th>FINANZ_SPARER</th>\n",
       "      <th>FINANZ_VORSORGER</th>\n",
       "      <th>FINANZ_ANLEGER</th>\n",
       "      <th>FINANZ_UNAUFFAELLIGER</th>\n",
       "      <th>FINANZ_HAUSBAUER</th>\n",
       "      <th>FINANZTYP</th>\n",
       "      <th>...</th>\n",
       "      <th>PLZ8_HHZ</th>\n",
       "      <th>PLZ8_GBZ</th>\n",
       "      <th>ARBEIT</th>\n",
       "      <th>ORTSGR_KLS9</th>\n",
       "      <th>RELAT_AB</th>\n",
       "      <th>Decade</th>\n",
       "      <th>Movement</th>\n",
       "      <th>Nation</th>\n",
       "      <th>Wealth</th>\n",
       "      <th>Life_Stage</th>\n",
       "    </tr>\n",
       "  </thead>\n",
       "  <tbody>\n",
       "    <tr>\n",
       "      <th>4</th>\n",
       "      <td>3.0</td>\n",
       "      <td>1</td>\n",
       "      <td>5.0</td>\n",
       "      <td>4</td>\n",
       "      <td>3</td>\n",
       "      <td>4</td>\n",
       "      <td>1</td>\n",
       "      <td>3</td>\n",
       "      <td>2</td>\n",
       "      <td>5</td>\n",
       "      <td>...</td>\n",
       "      <td>3.0</td>\n",
       "      <td>3.0</td>\n",
       "      <td>4.0</td>\n",
       "      <td>6.0</td>\n",
       "      <td>5.0</td>\n",
       "      <td>70s</td>\n",
       "      <td>MainStream</td>\n",
       "      <td>E+W</td>\n",
       "      <td>Less Affluent Households</td>\n",
       "      <td>Families With School Age Children</td>\n",
       "    </tr>\n",
       "    <tr>\n",
       "      <th>84</th>\n",
       "      <td>3.0</td>\n",
       "      <td>1</td>\n",
       "      <td>4.0</td>\n",
       "      <td>3</td>\n",
       "      <td>1</td>\n",
       "      <td>5</td>\n",
       "      <td>1</td>\n",
       "      <td>1</td>\n",
       "      <td>4</td>\n",
       "      <td>5</td>\n",
       "      <td>...</td>\n",
       "      <td>4.0</td>\n",
       "      <td>3.0</td>\n",
       "      <td>4.0</td>\n",
       "      <td>9.0</td>\n",
       "      <td>4.0</td>\n",
       "      <td>70s</td>\n",
       "      <td>MainStream</td>\n",
       "      <td>E+W</td>\n",
       "      <td>Comfortable Households</td>\n",
       "      <td>Elders In Retirement</td>\n",
       "    </tr>\n",
       "    <tr>\n",
       "      <th>93</th>\n",
       "      <td>4.0</td>\n",
       "      <td>1</td>\n",
       "      <td>3.0</td>\n",
       "      <td>4</td>\n",
       "      <td>1</td>\n",
       "      <td>5</td>\n",
       "      <td>1</td>\n",
       "      <td>1</td>\n",
       "      <td>5</td>\n",
       "      <td>5</td>\n",
       "      <td>...</td>\n",
       "      <td>3.0</td>\n",
       "      <td>3.0</td>\n",
       "      <td>3.0</td>\n",
       "      <td>4.0</td>\n",
       "      <td>4.0</td>\n",
       "      <td>60s</td>\n",
       "      <td>MainStream</td>\n",
       "      <td>E+W</td>\n",
       "      <td>Poorer Households</td>\n",
       "      <td>Older Families &amp;  Mature Couples</td>\n",
       "    </tr>\n",
       "  </tbody>\n",
       "</table>\n",
       "<p>3 rows × 84 columns</p>\n",
       "</div>"
      ],
      "text/plain": [
       "    ALTERSKATEGORIE_GROB  ANREDE_KZ  CJT_GESAMTTYP  FINANZ_MINIMALIST  \\\n",
       "4                    3.0          1            5.0                  4   \n",
       "84                   3.0          1            4.0                  3   \n",
       "93                   4.0          1            3.0                  4   \n",
       "\n",
       "    FINANZ_SPARER  FINANZ_VORSORGER  FINANZ_ANLEGER  FINANZ_UNAUFFAELLIGER  \\\n",
       "4               3                 4               1                      3   \n",
       "84              1                 5               1                      1   \n",
       "93              1                 5               1                      1   \n",
       "\n",
       "    FINANZ_HAUSBAUER  FINANZTYP                ...                  PLZ8_HHZ  \\\n",
       "4                  2          5                ...                       3.0   \n",
       "84                 4          5                ...                       4.0   \n",
       "93                 5          5                ...                       3.0   \n",
       "\n",
       "    PLZ8_GBZ  ARBEIT  ORTSGR_KLS9  RELAT_AB  Decade    Movement  Nation  \\\n",
       "4        3.0     4.0          6.0       5.0     70s  MainStream     E+W   \n",
       "84       3.0     4.0          9.0       4.0     70s  MainStream     E+W   \n",
       "93       3.0     3.0          4.0       4.0     60s  MainStream     E+W   \n",
       "\n",
       "                      Wealth                         Life_Stage  \n",
       "4   Less Affluent Households  Families With School Age Children  \n",
       "84    Comfortable Households               Elders In Retirement  \n",
       "93         Poorer Households   Older Families &  Mature Couples  \n",
       "\n",
       "[3 rows x 84 columns]"
      ]
     },
     "execution_count": 118,
     "metadata": {},
     "output_type": "execute_result"
    }
   ],
   "source": [
    "outside_list = df_prediction_azdias_1[df_prediction_azdias_1['Cluster'] == 0].index\n",
    "df_outside = azdias.iloc[outside_list]\n",
    "df_outside.head(3)"
   ]
  },
  {
   "cell_type": "code",
   "execution_count": 119,
   "metadata": {},
   "outputs": [],
   "source": [
    "def plot_comparison(column):\n",
    "    fig, (ax1, ax2) = plt.subplots(figsize=(12,4), ncols=2)\n",
    "    sns.countplot(x = column, data=df_target, ax=ax1)\n",
    "    ax1.set_xlabel('Value')\n",
    "    ax1.set_title('Distribution of target population')\n",
    "    sns.countplot(x = column, data=df_outside, ax=ax2)\n",
    "    ax2.set_xlabel('Value')\n",
    "    ax2.set_title('Distribution of non-target population')\n",
    "    fig.tight_layout()\n",
    "    plt.show()"
   ]
  },
  {
   "cell_type": "markdown",
   "metadata": {},
   "source": [
    "### Discussion 3.3: Compare Customer Data to Demographics Data\n",
    "\n",
    "From the plots shown below we can make some assumptions of the mail order companies target population. Firstly the LP_STATUS_GROB plot shows the income of the general population and target population, we can see the target population perfers customers in the top two brackets of in terms of earnings. Another assumption we can make is that the company prefers male over female customers, this could depend on the products sold, but we can see from the ANDREDE_KZ plot males outnumber the females in terms of target population. \n",
    "The HH_EINKOMMEN_SCORE plot again deals with income and we can see as expected the target population prefers those with higher income. The decade plot is interested, as it shows the target population for the mail order company strongly prefers people from the 50-80s, although it would be expected that people in the 40s decade would be less likely to use the mail order company, those in the 90s were also low. This could be because the dataset is older, or perhaps the product line is more attractive to older customers. "
   ]
  },
  {
   "cell_type": "markdown",
   "metadata": {},
   "source": [
    "> Congratulations on making it this far in the project! Before you finish, make sure to check through the entire notebook from top to bottom to make sure that your analysis follows a logical flow and all of your findings are documented in **Discussion** cells. Once you've checked over all of your work, you should export the notebook as an HTML document to submit for evaluation. You can do this from the menu, navigating to **File -> Download as -> HTML (.html)**. You will submit both that document and this notebook for your project submission."
   ]
  },
  {
   "cell_type": "code",
   "execution_count": 120,
   "metadata": {},
   "outputs": [
    {
     "data": {
      "image/png": "[encoded data removed]",
      "text/plain": [
       "<matplotlib.figure.Figure at 0x7f17a8cdcac8>"
      ]
     },
     "metadata": {},
     "output_type": "display_data"
    }
   ],
   "source": [
    "plot_comparison('LP_STATUS_GROB')\n"
   ]
  },
  {
   "cell_type": "code",
   "execution_count": 121,
   "metadata": {},
   "outputs": [
    {
     "data": {
      "image/png": "[encoded data removed]",
      "text/plain": [
       "<matplotlib.figure.Figure at 0x7f17a8ce6630>"
      ]
     },
     "metadata": {},
     "output_type": "display_data"
    }
   ],
   "source": [
    "plot_comparison('FINANZ_MINIMALIST')\n"
   ]
  },
  {
   "cell_type": "code",
   "execution_count": 122,
   "metadata": {},
   "outputs": [
    {
     "data": {
      "image/png": "[encoded data removed]",
      "text/plain": [
       "<matplotlib.figure.Figure at 0x7f17a7d3da20>"
      ]
     },
     "metadata": {},
     "output_type": "display_data"
    }
   ],
   "source": [
    "plot_comparison('ANREDE_KZ')\n"
   ]
  },
  {
   "cell_type": "code",
   "execution_count": 123,
   "metadata": {},
   "outputs": [
    {
     "data": {
      "image/png": "[encoded data removed]",
      "text/plain": [
       "<matplotlib.figure.Figure at 0x7f1647a19d68>"
      ]
     },
     "metadata": {},
     "output_type": "display_data"
    }
   ],
   "source": [
    "plot_comparison('HH_EINKOMMEN_SCORE')\n"
   ]
  },
  {
   "cell_type": "code",
   "execution_count": 124,
   "metadata": {},
   "outputs": [
    {
     "data": {
      "image/png": "[encoded data removed]",
      "text/plain": [
       "<matplotlib.figure.Figure at 0x7f17a79f1390>"
      ]
     },
     "metadata": {},
     "output_type": "display_data"
    }
   ],
   "source": [
    "plot_comparison('SEMIO_PFLICHT')\n"
   ]
  },
  {
   "cell_type": "code",
   "execution_count": 125,
   "metadata": {},
   "outputs": [
    {
     "data": {
      "image/png": "[encoded data removed]",
      "text/plain": [
       "<matplotlib.figure.Figure at 0x7f17b14dddd8>"
      ]
     },
     "metadata": {},
     "output_type": "display_data"
    }
   ],
   "source": [
    "plot_comparison('Decade')\n"
   ]
  },
  {
   "cell_type": "code",
   "execution_count": null,
   "metadata": {},
   "outputs": [],
   "source": []
  }
 ],
 "metadata": {
  "kernelspec": {
   "display_name": "Python 3",
   "language": "python",
   "name": "python3"
  },
  "language_info": {
   "codemirror_mode": {
    "name": "ipython",
    "version": 3
   },
   "file_extension": ".py",
   "mimetype": "text/x-python",
   "name": "python",
   "nbconvert_exporter": "python",
   "pygments_lexer": "ipython3",
   "version": "3.6.3"
  }
 },
 "nbformat": 4,
 "nbformat_minor": 2
}
